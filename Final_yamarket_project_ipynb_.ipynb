{
 "cells": [
  {
   "cell_type": "code",
   "execution_count": 1,
   "metadata": {
    "colab": {
     "base_uri": "https://localhost:8080/"
    },
    "id": "uHAK8hOlNOxk",
    "outputId": "6e05620d-0ffd-488a-88f5-3e7c056a4709"
   },
   "outputs": [
    {
     "name": "stdout",
     "output_type": "stream",
     "text": [
      "[nltk_data] Downloading package punkt to /root/nltk_data...\n",
      "[nltk_data]   Unzipping tokenizers/punkt.zip.\n",
      "[nltk_data] Downloading package stopwords to /root/nltk_data...\n",
      "[nltk_data]   Unzipping corpora/stopwords.zip.\n"
     ]
    },
    {
     "data": {
      "text/plain": [
       "True"
      ]
     },
     "execution_count": 1,
     "metadata": {
      "tags": []
     },
     "output_type": "execute_result"
    }
   ],
   "source": [
    "import pandas as pd\n",
    "import numpy as np\n",
    "import re\n",
    "import matplotlib.pyplot as plt\n",
    "from sklearn.metrics import accuracy_score\n",
    "from sklearn.linear_model import LogisticRegression\n",
    "import nltk\n",
    "import pickle\n",
    "from nltk.stem import PorterStemmer, WordNetLemmatizer\n",
    "from nltk.corpus import wordnet\n",
    "from sklearn.model_selection import train_test_split\n",
    "from nltk.corpus import stopwords\n",
    "import torch.functional as F\n",
    "from tqdm import tqdm\n",
    "from scipy import sparse\n",
    "from keras.utils import to_categorical\n",
    "nltk.download('punkt')\n",
    "nltk.download('stopwords')"
   ]
  },
  {
   "cell_type": "code",
   "execution_count": 47,
   "metadata": {
    "colab": {
     "base_uri": "https://localhost:8080/"
    },
    "id": "oameNA_fNsrD",
    "outputId": "edec148c-d121-4c4e-f76a-7c3ac272f24a"
   },
   "outputs": [
    {
     "name": "stdout",
     "output_type": "stream",
     "text": [
      "Mounted at /content/drive\n"
     ]
    }
   ],
   "source": [
    "from google.colab import drive\n",
    "drive.mount('/content/drive')"
   ]
  },
  {
   "cell_type": "code",
   "execution_count": 3,
   "metadata": {
    "id": "MZs8FUt4N7gT"
   },
   "outputs": [],
   "source": [
    "#path = '/content/drive/MyDrive/DATAS/yamarket/data_21_good_text.csv'\n",
    "n_categories = 3006"
   ]
  },
  {
   "cell_type": "code",
   "execution_count": 4,
   "metadata": {
    "colab": {
     "base_uri": "https://localhost:8080/"
    },
    "id": "7k5Md2gHzCns",
    "outputId": "c840333f-f8ef-4e71-ea1b-843e7adf5340"
   },
   "outputs": [
    {
     "name": "stdout",
     "output_type": "stream",
     "text": [
      "Downloading...\n",
      "From: https://drive.google.com/uc?id=1Ub6UuQQ9-1A5XXg600fxOXJdpizv3wup\n",
      "To: /content/data_21_good_text.csv\n",
      "304MB [00:01, 203MB/s]\n"
     ]
    }
   ],
   "source": [
    "!gdown --id 1Ub6UuQQ9-1A5XXg600fxOXJdpizv3wup"
   ]
  },
  {
   "cell_type": "code",
   "execution_count": 133,
   "metadata": {
    "id": "uJ6ezvRiNOx5"
   },
   "outputs": [],
   "source": [
    "path = '/content/data_21_good_text.csv'\n",
    "data_rev = pd.read_csv(path)\n",
    "del data_rev['Unnamed: 0']\n",
    "del data_rev['Unnamed: 0.1']"
   ]
  },
  {
   "cell_type": "code",
   "execution_count": 134,
   "metadata": {
    "colab": {
     "base_uri": "https://localhost:8080/",
     "height": 195
    },
    "id": "8zJGlm6gGipv",
    "outputId": "09c73135-9ac9-4f08-906a-05ad264b2dbf"
   },
   "outputs": [
    {
     "data": {
      "text/html": [
       "<div>\n",
       "<style scoped>\n",
       "    .dataframe tbody tr th:only-of-type {\n",
       "        vertical-align: middle;\n",
       "    }\n",
       "\n",
       "    .dataframe tbody tr th {\n",
       "        vertical-align: top;\n",
       "    }\n",
       "\n",
       "    .dataframe thead th {\n",
       "        text-align: right;\n",
       "    }\n",
       "</style>\n",
       "<table border=\"1\" class=\"dataframe\">\n",
       "  <thead>\n",
       "    <tr style=\"text-align: right;\">\n",
       "      <th></th>\n",
       "      <th>prod_id</th>\n",
       "      <th>price</th>\n",
       "      <th>brand</th>\n",
       "      <th>id</th>\n",
       "      <th>author</th>\n",
       "      <th>description</th>\n",
       "      <th>rate</th>\n",
       "      <th>date</th>\n",
       "      <th>mean_price</th>\n",
       "    </tr>\n",
       "  </thead>\n",
       "  <tbody>\n",
       "    <tr>\n",
       "      <th>0</th>\n",
       "      <td>10692976.0</td>\n",
       "      <td>3085.57234</td>\n",
       "      <td>23.0</td>\n",
       "      <td>280</td>\n",
       "      <td>Konstantin Zeleznov</td>\n",
       "      <td>достоинств больш экра карт min быстродейств фу...</td>\n",
       "      <td>4</td>\n",
       "      <td>2014-03-04</td>\n",
       "      <td>3085.57234</td>\n",
       "    </tr>\n",
       "    <tr>\n",
       "      <th>1</th>\n",
       "      <td>10692976.0</td>\n",
       "      <td>3085.57234</td>\n",
       "      <td>23.0</td>\n",
       "      <td>281</td>\n",
       "      <td>Юлия Л.</td>\n",
       "      <td>достоинств очен плох угл обзор записыва плюс с...</td>\n",
       "      <td>5</td>\n",
       "      <td>2014-03-22</td>\n",
       "      <td>3085.57234</td>\n",
       "    </tr>\n",
       "    <tr>\n",
       "      <th>2</th>\n",
       "      <td>10692976.0</td>\n",
       "      <td>3085.57234</td>\n",
       "      <td>23.0</td>\n",
       "      <td>282</td>\n",
       "      <td>Имя скрыто</td>\n",
       "      <td>достоинств 5 дюймов экра android вход 2 отличн...</td>\n",
       "      <td>5</td>\n",
       "      <td>2014-05-18</td>\n",
       "      <td>3085.57234</td>\n",
       "    </tr>\n",
       "    <tr>\n",
       "      <th>3</th>\n",
       "      <td>10692976.0</td>\n",
       "      <td>3085.57234</td>\n",
       "      <td>23.0</td>\n",
       "      <td>283</td>\n",
       "      <td>роман п.</td>\n",
       "      <td>достоинств давольн неприхотлив модел удобн про...</td>\n",
       "      <td>5</td>\n",
       "      <td>2014-03-28</td>\n",
       "      <td>3085.57234</td>\n",
       "    </tr>\n",
       "    <tr>\n",
       "      <th>4</th>\n",
       "      <td>10692976.0</td>\n",
       "      <td>3085.57234</td>\n",
       "      <td>23.0</td>\n",
       "      <td>284</td>\n",
       "      <td>Александр Н.</td>\n",
       "      <td>достоинств экра 5 процессор справля ур флэш 32...</td>\n",
       "      <td>4</td>\n",
       "      <td>2014-02-24</td>\n",
       "      <td>3085.57234</td>\n",
       "    </tr>\n",
       "  </tbody>\n",
       "</table>\n",
       "</div>"
      ],
      "text/plain": [
       "      prod_id       price  brand  ...  rate        date  mean_price\n",
       "0  10692976.0  3085.57234   23.0  ...     4  2014-03-04  3085.57234\n",
       "1  10692976.0  3085.57234   23.0  ...     5  2014-03-22  3085.57234\n",
       "2  10692976.0  3085.57234   23.0  ...     5  2014-05-18  3085.57234\n",
       "3  10692976.0  3085.57234   23.0  ...     5  2014-03-28  3085.57234\n",
       "4  10692976.0  3085.57234   23.0  ...     4  2014-02-24  3085.57234\n",
       "\n",
       "[5 rows x 9 columns]"
      ]
     },
     "execution_count": 134,
     "metadata": {
      "tags": []
     },
     "output_type": "execute_result"
    }
   ],
   "source": [
    "brand_mean_price = data_rev[data_rev['price'] != 0].groupby('brand')['price'].agg(mean_price = 'mean')\n",
    "data_rev = pd.merge(data_rev, brand_mean_price, on = 'brand', how = 'outer')\n",
    "data_rev.loc[data_rev['price'] == 0, 'price'] = data_rev.loc[data_rev['price'] == 0, 'mean_price']\n",
    "data_rev = data_rev.fillna(0)\n",
    "data_rev.head()"
   ]
  },
  {
   "cell_type": "code",
   "execution_count": 135,
   "metadata": {
    "id": "LhlAU7c5ffjC"
   },
   "outputs": [],
   "source": [
    "small_data = pd.DataFrame()\n",
    "for i in range(1, 6) :\n",
    "  data = data_rev[data_rev['rate'] == i].iloc[:2000]\n",
    "  small_data = pd.concat([small_data, data], axis = 0)\n",
    "data_rev = small_data"
   ]
  },
  {
   "cell_type": "code",
   "execution_count": 136,
   "metadata": {
    "colab": {
     "base_uri": "https://localhost:8080/"
    },
    "id": "sbMKEPlLgoAq",
    "outputId": "56e9e579-8f00-4ee1-c963-05be89e04e87"
   },
   "outputs": [
    {
     "data": {
      "text/plain": [
       "(10000, 9)"
      ]
     },
     "execution_count": 136,
     "metadata": {
      "tags": []
     },
     "output_type": "execute_result"
    }
   ],
   "source": [
    "data_rev.shape"
   ]
  },
  {
   "cell_type": "code",
   "execution_count": 137,
   "metadata": {
    "colab": {
     "base_uri": "https://localhost:8080/",
     "height": 195
    },
    "id": "eUbP-Yzvzawn",
    "outputId": "a6295388-7160-40ce-a246-2f4e27914695"
   },
   "outputs": [
    {
     "data": {
      "text/html": [
       "<div>\n",
       "<style scoped>\n",
       "    .dataframe tbody tr th:only-of-type {\n",
       "        vertical-align: middle;\n",
       "    }\n",
       "\n",
       "    .dataframe tbody tr th {\n",
       "        vertical-align: top;\n",
       "    }\n",
       "\n",
       "    .dataframe thead th {\n",
       "        text-align: right;\n",
       "    }\n",
       "</style>\n",
       "<table border=\"1\" class=\"dataframe\">\n",
       "  <thead>\n",
       "    <tr style=\"text-align: right;\">\n",
       "      <th></th>\n",
       "      <th>prod_id</th>\n",
       "      <th>price</th>\n",
       "      <th>brand</th>\n",
       "      <th>id</th>\n",
       "      <th>author</th>\n",
       "      <th>description</th>\n",
       "      <th>rate</th>\n",
       "      <th>date</th>\n",
       "      <th>mean_price</th>\n",
       "    </tr>\n",
       "  </thead>\n",
       "  <tbody>\n",
       "    <tr>\n",
       "      <th>13</th>\n",
       "      <td>1.069298e+07</td>\n",
       "      <td>3085.57234</td>\n",
       "      <td>23.0</td>\n",
       "      <td>293</td>\n",
       "      <td>Юлия Ф.</td>\n",
       "      <td>достоинств экра недостатк плох качеств корпус ...</td>\n",
       "      <td>1</td>\n",
       "      <td>2015-03-20</td>\n",
       "      <td>3085.57234</td>\n",
       "    </tr>\n",
       "    <tr>\n",
       "      <th>28</th>\n",
       "      <td>1.710418e+09</td>\n",
       "      <td>3085.57234</td>\n",
       "      <td>23.0</td>\n",
       "      <td>7689</td>\n",
       "      <td>Дмитрий И.</td>\n",
       "      <td>достоинств хорош батаре держ очен долг будет н...</td>\n",
       "      <td>1</td>\n",
       "      <td>2018-07-13</td>\n",
       "      <td>3085.57234</td>\n",
       "    </tr>\n",
       "    <tr>\n",
       "      <th>43</th>\n",
       "      <td>1.710418e+09</td>\n",
       "      <td>3085.57234</td>\n",
       "      <td>23.0</td>\n",
       "      <td>7729</td>\n",
       "      <td>Kirill V.</td>\n",
       "      <td>достоинств прост излишеств недостатк по прост ...</td>\n",
       "      <td>1</td>\n",
       "      <td>2016-12-01</td>\n",
       "      <td>3085.57234</td>\n",
       "    </tr>\n",
       "    <tr>\n",
       "      <th>44</th>\n",
       "      <td>1.710418e+09</td>\n",
       "      <td>3085.57234</td>\n",
       "      <td>23.0</td>\n",
       "      <td>7731</td>\n",
       "      <td>Имя скрыто</td>\n",
       "      <td>достоинств красив кирпич вес размер ударопрочн...</td>\n",
       "      <td>1</td>\n",
       "      <td>2017-09-29</td>\n",
       "      <td>3085.57234</td>\n",
       "    </tr>\n",
       "    <tr>\n",
       "      <th>45</th>\n",
       "      <td>1.710418e+09</td>\n",
       "      <td>3085.57234</td>\n",
       "      <td>23.0</td>\n",
       "      <td>7733</td>\n",
       "      <td>Михель М.</td>\n",
       "      <td>достоинств батаре держ дольш обычн 2 ест возмо...</td>\n",
       "      <td>1</td>\n",
       "      <td>2017-02-04</td>\n",
       "      <td>3085.57234</td>\n",
       "    </tr>\n",
       "  </tbody>\n",
       "</table>\n",
       "</div>"
      ],
      "text/plain": [
       "         prod_id       price  brand  ...  rate        date  mean_price\n",
       "13  1.069298e+07  3085.57234   23.0  ...     1  2015-03-20  3085.57234\n",
       "28  1.710418e+09  3085.57234   23.0  ...     1  2018-07-13  3085.57234\n",
       "43  1.710418e+09  3085.57234   23.0  ...     1  2016-12-01  3085.57234\n",
       "44  1.710418e+09  3085.57234   23.0  ...     1  2017-09-29  3085.57234\n",
       "45  1.710418e+09  3085.57234   23.0  ...     1  2017-02-04  3085.57234\n",
       "\n",
       "[5 rows x 9 columns]"
      ]
     },
     "execution_count": 137,
     "metadata": {
      "tags": []
     },
     "output_type": "execute_result"
    }
   ],
   "source": [
    "data_rev.head()"
   ]
  },
  {
   "cell_type": "code",
   "execution_count": null,
   "metadata": {
    "id": "HNVb6wZXOWzW"
   },
   "outputs": [],
   "source": [
    "\n",
    "def normalize_text(text) :\n",
    "  stop_words = set(stopwords.words(\"russian\"))\n",
    "  sentences = nltk.sent_tokenize(text)\n",
    "  answer_list = []\n",
    "\n",
    "  for sentence in sentences:\n",
    "      words = nltk.word_tokenize(sentence)\n",
    "      without_stop_words = [word.lower() for word in words if not word in stop_words and word.isalnum()]\n",
    "      for el in without_stop_words:\n",
    "       answer_list.append(nltk.stem.SnowballStemmer('russian').stem(el))\n",
    "       #answer_list.append(el)\n",
    "\n",
    "  return ' '.join(answer_list)\n",
    "\n",
    "texts_for_df = []\n",
    "for i in tqdm(data_rev['description'].values, position=0, leave=True) :\n",
    "  texts_for_df.append(normalize_text(i))\n",
    "  \n",
    "data_rev.loc[:, 'description'] = texts_for_df"
   ]
  },
  {
   "cell_type": "code",
   "execution_count": null,
   "metadata": {
    "id": "2oTaoMbf4Kzk"
   },
   "outputs": [],
   "source": [
    "#data_rev.to_csv('/content/drive/MyDrive/DATAS/yamarket/data_21_good_text.csv')"
   ]
  },
  {
   "cell_type": "code",
   "execution_count": 12,
   "metadata": {
    "colab": {
     "base_uri": "https://localhost:8080/"
    },
    "id": "TJinzCkK093f",
    "outputId": "e8c24db8-66fa-4be5-b649-97ac3cca23ae"
   },
   "outputs": [
    {
     "name": "stdout",
     "output_type": "stream",
     "text": [
      "Collecting pymorphy2\n",
      "\u001b[?25l  Downloading https://files.pythonhosted.org/packages/07/57/b2ff2fae3376d4f3c697b9886b64a54b476e1a332c67eee9f88e7f1ae8c9/pymorphy2-0.9.1-py3-none-any.whl (55kB)\n",
      "\u001b[K     |████████████████████████████████| 61kB 7.8MB/s \n",
      "\u001b[?25hCollecting dawg-python>=0.7.1\n",
      "  Downloading https://files.pythonhosted.org/packages/6a/84/ff1ce2071d4c650ec85745766c0047ccc3b5036f1d03559fd46bb38b5eeb/DAWG_Python-0.7.2-py2.py3-none-any.whl\n",
      "Requirement already satisfied: docopt>=0.6 in /usr/local/lib/python3.6/dist-packages (from pymorphy2) (0.6.2)\n",
      "Collecting pymorphy2-dicts-ru<3.0,>=2.4\n",
      "\u001b[?25l  Downloading https://files.pythonhosted.org/packages/3a/79/bea0021eeb7eeefde22ef9e96badf174068a2dd20264b9a378f2be1cdd9e/pymorphy2_dicts_ru-2.4.417127.4579844-py2.py3-none-any.whl (8.2MB)\n",
      "\u001b[K     |████████████████████████████████| 8.2MB 13.2MB/s \n",
      "\u001b[?25hInstalling collected packages: dawg-python, pymorphy2-dicts-ru, pymorphy2\n",
      "Successfully installed dawg-python-0.7.2 pymorphy2-0.9.1 pymorphy2-dicts-ru-2.4.417127.4579844\n"
     ]
    }
   ],
   "source": [
    "!pip install pymorphy2"
   ]
  },
  {
   "cell_type": "code",
   "execution_count": 14,
   "metadata": {
    "colab": {
     "base_uri": "https://localhost:8080/"
    },
    "id": "gt4G4I8-0B6D",
    "outputId": "2e1fe7cd-95e3-4fe3-d9d4-787fe8b83fbb"
   },
   "outputs": [
    {
     "name": "stdout",
     "output_type": "stream",
     "text": [
      "[nltk_data] Downloading package stopwords to /root/nltk_data...\n",
      "[nltk_data]   Package stopwords is already up-to-date!\n",
      "[nltk_data] Downloading package punkt to /root/nltk_data...\n",
      "[nltk_data]   Package punkt is already up-to-date!\n",
      "[nltk_data] Downloading package wordnet to /root/nltk_data...\n",
      "[nltk_data]   Unzipping corpora/wordnet.zip.\n"
     ]
    }
   ],
   "source": [
    "nltk.download('stopwords')\n",
    "nltk.download('punkt')\n",
    "nltk.download('wordnet')\n",
    "from nltk.corpus import stopwords\n",
    "from nltk.tokenize import word_tokenize\n",
    "import pymorphy2\n",
    "from nltk.stem import WordNetLemmatizer \n",
    "\n",
    "from tqdm import tqdm"
   ]
  },
  {
   "cell_type": "code",
   "execution_count": 15,
   "metadata": {
    "id": "4hSbL19j0MpY"
   },
   "outputs": [],
   "source": [
    "def data_prepare(language_dict, ru=False, en=False, es=False):\n",
    "\n",
    "    if ru:\n",
    "        stop_words = set(stopwords.words('russian'))\n",
    "        lemmatizer = pymorphy2.MorphAnalyzer()\n",
    "    elif en:\n",
    "        stop_words = set(stopwords.words('english'))\n",
    "        lemmatizer = WordNetLemmatizer()\n",
    "    elif es:\n",
    "        stop_words = set(stopwords.words('spanish'))\n",
    "        lemmatizer = nltk.stem.SnowballStemmer('spanish')\n",
    "        \n",
    "    dict_prepared = []\n",
    "    \n",
    "    for  text in tqdm(language_dict['description'].values):\n",
    "        text = re.sub(r'[^\\w\\s]','', text.lower())\n",
    "        text = re.sub(r'[0-9]','', text)\n",
    "        \n",
    "        word_tokens = word_tokenize(text)\n",
    "        word_tokens = [w for w in word_tokens if not w in stop_words]\n",
    "        if ru:\n",
    "            word_tokens = [lemmatizer.parse(w)[0].normal_form for w in word_tokens]\n",
    "        elif en:\n",
    "            word_tokens = [lemmatizer.lemmatize(w) for w in word_tokens]\n",
    "        elif es:\n",
    "            word_tokens = [lemmatizer.stem(w) for w in word_tokens]\n",
    "        \n",
    "        word_tokens = [w for w in word_tokens if not w in stop_words]\n",
    "        \n",
    "        filtered_text = ' '.join(word_tokens)\n",
    "        dict_prepared.append( filtered_text)\n",
    "    return dict_prepared"
   ]
  },
  {
   "cell_type": "code",
   "execution_count": 16,
   "metadata": {
    "colab": {
     "base_uri": "https://localhost:8080/"
    },
    "id": "DmBCQxMP0RCT",
    "outputId": "44d3a6d1-d887-45c3-93bd-b0bc7aa74d67"
   },
   "outputs": [
    {
     "name": "stderr",
     "output_type": "stream",
     "text": [
      "100%|██████████| 10000/10000 [03:07<00:00, 53.42it/s]\n"
     ]
    }
   ],
   "source": [
    "ru_prepared = data_prepare(data_rev, ru=True)"
   ]
  },
  {
   "cell_type": "code",
   "execution_count": 138,
   "metadata": {
    "colab": {
     "base_uri": "https://localhost:8080/"
    },
    "id": "Z17JLPDWjXu3",
    "outputId": "8ee971fd-70bc-43b8-b20d-60b7ee19a81c"
   },
   "outputs": [
    {
     "data": {
      "text/plain": [
       "10000"
      ]
     },
     "execution_count": 138,
     "metadata": {
      "tags": []
     },
     "output_type": "execute_result"
    }
   ],
   "source": [
    "len(ru_prepared)"
   ]
  },
  {
   "cell_type": "code",
   "execution_count": null,
   "metadata": {
    "colab": {
     "base_uri": "https://localhost:8080/",
     "height": 34
    },
    "id": "xD2uo_mh0QpN",
    "outputId": "73f8a107-ca7a-4e52-ddfb-8a3da0ccde0d"
   },
   "outputs": [
    {
     "data": {
      "application/vnd.google.colaboratory.intrinsic+json": {
       "type": "string"
      },
      "text/plain": [
       "'достоинство экр недостатк плохой качество корпус пол год окантовк начесть осыпат отремонтиров реальна продажа'"
      ]
     },
     "execution_count": 16,
     "metadata": {
      "tags": []
     },
     "output_type": "execute_result"
    }
   ],
   "source": [
    "ru_prepared[0]"
   ]
  },
  {
   "cell_type": "code",
   "execution_count": 75,
   "metadata": {
    "id": "d2QMf1BA1zfe"
   },
   "outputs": [],
   "source": [
    "%matplotlib inline\n",
    "import matplotlib as mpl\n",
    "import matplotlib.pyplot as plt\n",
    "mpl.style.use('seaborn')\n",
    "plt.rc('font', size=15)          # controls default text sizes\n",
    "plt.rc('axes', titlesize=15)     # fontsize of the axes title\n",
    "plt.rc('axes', labelsize=15)    # fontsize of the x and y labels\n",
    "plt.rc('xtick', labelsize=15)    # fontsize of the tick labels\n",
    "plt.rc('ytick', labelsize=15)    # fontsize of the tick labels\n",
    "\n",
    "from collections import Counter"
   ]
  },
  {
   "cell_type": "code",
   "execution_count": null,
   "metadata": {
    "colab": {
     "base_uri": "https://localhost:8080/"
    },
    "id": "M9Kvc6kc1-Wj",
    "outputId": "74f29ca0-ef7e-4a0d-b12a-3ba4c67b3476"
   },
   "outputs": [
    {
     "name": "stderr",
     "output_type": "stream",
     "text": [
      "100%|██████████| 5000/5000 [00:02<00:00, 2222.56it/s]\n"
     ]
    }
   ],
   "source": [
    "words = []\n",
    "for text in tqdm(ru_prepared):\n",
    "    words.extend(word_tokenize(text))"
   ]
  },
  {
   "cell_type": "code",
   "execution_count": null,
   "metadata": {
    "colab": {
     "base_uri": "https://localhost:8080/"
    },
    "id": "nsV9_Vpl1zmJ",
    "outputId": "4e3eaf84-9f9f-4bd7-c86b-f2a632c97420"
   },
   "outputs": [
    {
     "name": "stdout",
     "output_type": "stream",
     "text": [
      "16945\n"
     ]
    }
   ],
   "source": [
    "count_words = Counter(words)\n",
    "sorted_words = sorted(count_words.items(), key=lambda count_words: count_words[1], reverse=True)\n",
    "print(len(sorted_words))"
   ]
  },
  {
   "cell_type": "code",
   "execution_count": null,
   "metadata": {
    "colab": {
     "base_uri": "https://localhost:8080/",
     "height": 468
    },
    "id": "I_DQ2TPg1zi7",
    "outputId": "bb0f4585-4886-43df-b7ec-9d3332529c12"
   },
   "outputs": [
    {
     "data": {
      "image/png": "[encoded data removed]",
      "text/plain": [
       "<Figure size 936x504 with 1 Axes>"
      ]
     },
     "metadata": {
      "tags": []
     },
     "output_type": "display_data"
    }
   ],
   "source": [
    "plt.figure(figsize=(13, 7))\n",
    "plt.bar(range(15), [sorted_words[i][1] for i in range(15)])\n",
    "plt.xticks(range(15), [sorted_words[i][0] for i in range(15)])\n",
    "plt.title('15 самых встречаемых слов среди всех документов')\n",
    "plt.xlabel('Слово')\n",
    "plt.ylabel('Количество');\n",
    "plt.show()"
   ]
  },
  {
   "cell_type": "code",
   "execution_count": null,
   "metadata": {
    "id": "_ewkAzAF2MoL"
   },
   "outputs": [],
   "source": [
    "from sklearn.feature_extraction.text import TfidfVectorizer"
   ]
  },
  {
   "cell_type": "code",
   "execution_count": null,
   "metadata": {
    "id": "LZxkDq3437zX"
   },
   "outputs": [],
   "source": [
    "y = data_rev['rate'].values"
   ]
  },
  {
   "cell_type": "code",
   "execution_count": null,
   "metadata": {
    "id": "0jzcU5Oe2M0H"
   },
   "outputs": [],
   "source": [
    "vectorizer = TfidfVectorizer()\n",
    "X = vectorizer.fit_transform(ru_prepared)"
   ]
  },
  {
   "cell_type": "code",
   "execution_count": null,
   "metadata": {
    "colab": {
     "base_uri": "https://localhost:8080/"
    },
    "id": "UezERVKZ2M_F",
    "outputId": "edf0b82b-53c7-43ea-e320-81a1f8cfe586"
   },
   "outputs": [
    {
     "name": "stdout",
     "output_type": "stream",
     "text": [
      "(4000, 16902) (1000, 16902) (4000,) (1000,)\n"
     ]
    }
   ],
   "source": [
    "X_train, X_test, y_train, y_test = train_test_split(\n",
    "    X, y, test_size=0.2, random_state=42)\n",
    "\n",
    "print(X_train.shape, X_test.shape, y_train.shape, y_test.shape)\n"
   ]
  },
  {
   "cell_type": "code",
   "execution_count": null,
   "metadata": {
    "colab": {
     "base_uri": "https://localhost:8080/"
    },
    "id": "6-Uej8FH2M4p",
    "outputId": "a0bc1b12-ae9f-4713-8b5a-6528f2a3a6b7"
   },
   "outputs": [
    {
     "name": "stdout",
     "output_type": "stream",
     "text": [
      "[LibLinear]"
     ]
    },
    {
     "data": {
      "text/plain": [
       "LogisticRegression(C=50, class_weight=None, dual=False, fit_intercept=True,\n",
       "                   intercept_scaling=1, l1_ratio=None, max_iter=100,\n",
       "                   multi_class='auto', n_jobs=None, penalty='l1',\n",
       "                   random_state=None, solver='liblinear', tol=0.0001,\n",
       "                   verbose=10, warm_start=False)"
      ]
     },
     "execution_count": 25,
     "metadata": {
      "tags": []
     },
     "output_type": "execute_result"
    }
   ],
   "source": [
    "clf = LogisticRegression(penalty='l1', C=50 , verbose = 10 , solver='liblinear')\n",
    "\n",
    "\n",
    "clf.fit(X_train , y_train )"
   ]
  },
  {
   "cell_type": "code",
   "execution_count": null,
   "metadata": {
    "colab": {
     "base_uri": "https://localhost:8080/"
    },
    "id": "tOn2Nkbf2MsW",
    "outputId": "78b56c23-ac44-45ce-ebd3-cb0f418e44d7"
   },
   "outputs": [
    {
     "name": "stdout",
     "output_type": "stream",
     "text": [
      "accuraccy  0.388\n"
     ]
    }
   ],
   "source": [
    "predict = clf.predict(X_test)\n",
    "print('accuraccy ', accuracy_score(y_test, predict.astype(int)))\n",
    "print('mae ', np.abs((predict - y_test)).mean())"
   ]
  },
  {
   "cell_type": "code",
   "execution_count": null,
   "metadata": {
    "colab": {
     "base_uri": "https://localhost:8080/"
    },
    "id": "oWyT7MOJ2MUG",
    "outputId": "fb00517c-5587-491e-d03a-167c3f979985"
   },
   "outputs": [
    {
     "data": {
      "text/plain": [
       "3.035"
      ]
     },
     "execution_count": 43,
     "metadata": {
      "tags": []
     },
     "output_type": "execute_result"
    }
   ],
   "source": [
    "predict.mean()"
   ]
  },
  {
   "cell_type": "code",
   "execution_count": null,
   "metadata": {
    "colab": {
     "base_uri": "https://localhost:8080/"
    },
    "id": "24a0yx-j47_s",
    "outputId": "18b04175-e2e0-4fa8-bc2f-2ec1a63ffa2e"
   },
   "outputs": [
    {
     "data": {
      "text/plain": [
       "1.449060040163968"
      ]
     },
     "execution_count": 44,
     "metadata": {
      "tags": []
     },
     "output_type": "execute_result"
    }
   ],
   "source": [
    "predict.std()"
   ]
  },
  {
   "cell_type": "code",
   "execution_count": null,
   "metadata": {
    "id": "F1fSFi4F5BtS"
   },
   "outputs": [],
   "source": [
    "from sklearn.preprocessing import StandardScaler"
   ]
  },
  {
   "cell_type": "code",
   "execution_count": null,
   "metadata": {
    "id": "AojJcozE5B0m"
   },
   "outputs": [],
   "source": [
    "sc = StandardScaler()"
   ]
  },
  {
   "cell_type": "code",
   "execution_count": null,
   "metadata": {
    "id": "0ABXYAMf5eVZ"
   },
   "outputs": [],
   "source": [
    "from sklearn.feature_extraction.text import TfidfVectorizer, TfidfTransformer\n",
    "from sklearn.linear_model import LogisticRegressionCV, LinearRegression , LassoCV\n",
    "from sklearn.model_selection import cross_val_score, GridSearchCV\n",
    "from sklearn.metrics import accuracy_score, f1_score, mean_squared_error\n",
    "from sklearn.metrics.scorer import make_scorer\n",
    "from sklearn.svm import LinearSVC, SVC\n"
   ]
  },
  {
   "cell_type": "code",
   "execution_count": null,
   "metadata": {
    "colab": {
     "base_uri": "https://localhost:8080/"
    },
    "id": "YgBmwboS5CCD",
    "outputId": "6fe8d90c-227b-4dc2-8f7f-30ceed2e1d0f"
   },
   "outputs": [
    {
     "name": "stderr",
     "output_type": "stream",
     "text": [
      "[Parallel(n_jobs=-1)]: Using backend ThreadingBackend with 2 concurrent workers.\n",
      ".....................................................................................................................................................................................................................................................................................................................[Parallel(n_jobs=-1)]: Done   3 out of   3 | elapsed:   54.6s finished\n"
     ]
    },
    {
     "name": "stdout",
     "output_type": "stream",
     "text": [
      "accuraccy  0.192\n",
      "mae  1.217372\n"
     ]
    }
   ],
   "source": [
    "model = LassoCV(cv = 3 , n_jobs= - 1,alphas = np.linspace(1,100000,100), verbose = True)\n",
    "model.fit(X_train, y_train)\n",
    "predict = model.predict(X_test)\n",
    "predict[predict > 5] = 5\n",
    "predict[predict < 0] = 0\n",
    "print('accuraccy ', accuracy_score(y_test, predict.astype(int)))\n",
    "print('mae ', np.abs((predict - y_test)).mean())"
   ]
  },
  {
   "cell_type": "markdown",
   "metadata": {
    "id": "vPPtkq4gbxde"
   },
   "source": [
    "###BOW\n"
   ]
  },
  {
   "cell_type": "code",
   "execution_count": null,
   "metadata": {
    "id": "iUWC8WQvkko9"
   },
   "outputs": [],
   "source": [
    "from sklearn.feature_extraction.text import CountVectorizer\n",
    "vectorizer = CountVectorizer()\n",
    "X = vectorizer.fit_transform(data_rev.loc[:]['description'].values)"
   ]
  },
  {
   "cell_type": "code",
   "execution_count": null,
   "metadata": {
    "colab": {
     "base_uri": "https://localhost:8080/"
    },
    "id": "l_P8QkyD2zFQ",
    "outputId": "2eff858d-f9d4-4c19-9ba4-9907a076205d"
   },
   "outputs": [
    {
     "data": {
      "text/plain": [
       "(314193, 177904)"
      ]
     },
     "execution_count": 86,
     "metadata": {
      "tags": []
     },
     "output_type": "execute_result"
    }
   ],
   "source": [
    "X.shape"
   ]
  },
  {
   "cell_type": "code",
   "execution_count": null,
   "metadata": {
    "colab": {
     "base_uri": "https://localhost:8080/"
    },
    "id": "-Qdj-Al-ruIO",
    "outputId": "ebb92bd4-702d-4f96-db97-8dc584ed8eab"
   },
   "outputs": [
    {
     "data": {
      "text/plain": [
       "(314193, 1)"
      ]
     },
     "execution_count": 87,
     "metadata": {
      "tags": []
     },
     "output_type": "execute_result"
    }
   ],
   "source": [
    "data_rev.loc[:]['price'].values.reshape(-1, 1).shape"
   ]
  },
  {
   "cell_type": "code",
   "execution_count": null,
   "metadata": {
    "id": "v81rEuYfpF24"
   },
   "outputs": [],
   "source": [
    "data_rev['brand'] = data_rev['brand'] % 3007\n",
    "X = sparse.hstack((X, data_rev.loc[:]['price'].values.reshape(-1, 1)))\n",
    "X = sparse.hstack((X, to_categorical(data_rev.loc[:]['brand'].values - 1, num_classes = n_categories)))"
   ]
  },
  {
   "cell_type": "code",
   "execution_count": null,
   "metadata": {
    "id": "Eaikyo2IuAqI"
   },
   "outputs": [],
   "source": [
    "y = data_rev['rate'].values"
   ]
  },
  {
   "cell_type": "code",
   "execution_count": null,
   "metadata": {
    "colab": {
     "base_uri": "https://localhost:8080/"
    },
    "id": "_9RdVV6MsFTe",
    "outputId": "22c7fd28-95c7-4093-a7d1-3df15d4788c2"
   },
   "outputs": [
    {
     "name": "stdout",
     "output_type": "stream",
     "text": [
      "(314193, 180911)\n",
      "(314193,)\n"
     ]
    }
   ],
   "source": [
    "print(X.shape)\n",
    "print(y.shape)"
   ]
  },
  {
   "cell_type": "code",
   "execution_count": null,
   "metadata": {
    "colab": {
     "base_uri": "https://localhost:8080/"
    },
    "id": "60Zd9MRat-Jy",
    "outputId": "7ce1f926-e3d6-48d1-ad9a-a3a456f8a293"
   },
   "outputs": [
    {
     "name": "stdout",
     "output_type": "stream",
     "text": [
      "(251354, 180911) (62839, 180911) (251354,) (62839,)\n"
     ]
    }
   ],
   "source": [
    "X_train, X_test, y_train, y_test = train_test_split(\n",
    "    X, y, test_size=0.2, random_state=42)\n",
    "\n",
    "print(X_train.shape, X_test.shape, y_train.shape, y_test.shape)"
   ]
  },
  {
   "cell_type": "code",
   "execution_count": null,
   "metadata": {
    "colab": {
     "base_uri": "https://localhost:8080/"
    },
    "id": "dnug7AlXtc6B",
    "outputId": "c0595dac-3551-46d7-9f0e-fe747591f6e2"
   },
   "outputs": [
    {
     "name": "stderr",
     "output_type": "stream",
     "text": [
      "/usr/local/lib/python3.6/dist-packages/sklearn/linear_model/_logistic.py:940: ConvergenceWarning: lbfgs failed to converge (status=1):\n",
      "STOP: TOTAL NO. of ITERATIONS REACHED LIMIT.\n",
      "\n",
      "Increase the number of iterations (max_iter) or scale the data as shown in:\n",
      "    https://scikit-learn.org/stable/modules/preprocessing.html\n",
      "Please also refer to the documentation for alternative solver options:\n",
      "    https://scikit-learn.org/stable/modules/linear_model.html#logistic-regression\n",
      "  extra_warning_msg=_LOGISTIC_SOLVER_CONVERGENCE_MSG)\n"
     ]
    },
    {
     "data": {
      "text/plain": [
       "0.5035885357819189"
      ]
     },
     "execution_count": 92,
     "metadata": {
      "tags": []
     },
     "output_type": "execute_result"
    }
   ],
   "source": [
    "model = LogisticRegression()\n",
    "model.fit(X_train, y_train)\n",
    "predict = model.predict(X_test)\n",
    "accuracy_score(y_test, predict)"
   ]
  },
  {
   "cell_type": "code",
   "execution_count": null,
   "metadata": {
    "id": "MdTCYrMludu8"
   },
   "outputs": [],
   "source": []
  },
  {
   "cell_type": "markdown",
   "metadata": {
    "id": "ASmr--rz40WD"
   },
   "source": [
    "###TF IDF vectorize"
   ]
  },
  {
   "cell_type": "code",
   "execution_count": 108,
   "metadata": {
    "colab": {
     "base_uri": "https://localhost:8080/"
    },
    "id": "3PNur9ng44le",
    "outputId": "ead5742e-b84e-4e0a-f4ba-7d6c5de9a3f7"
   },
   "outputs": [
    {
     "name": "stderr",
     "output_type": "stream",
     "text": [
      "/usr/local/lib/python3.6/dist-packages/sklearn/utils/deprecation.py:144: FutureWarning: The sklearn.metrics.scorer module is  deprecated in version 0.22 and will be removed in version 0.24. The corresponding classes / functions should instead be imported from sklearn.metrics. Anything that cannot be imported from sklearn.metrics is now part of the private API.\n",
      "  warnings.warn(message, FutureWarning)\n"
     ]
    }
   ],
   "source": [
    "from sklearn.feature_extraction.text import TfidfVectorizer, TfidfTransformer\n",
    "from sklearn.linear_model import LogisticRegressionCV, LinearRegression\n",
    "from sklearn.model_selection import cross_val_score, GridSearchCV\n",
    "from sklearn.metrics import accuracy_score, f1_score, mean_squared_error\n",
    "from sklearn.metrics.scorer import make_scorer\n",
    "from sklearn.svm import LinearSVC, SVC\n"
   ]
  },
  {
   "cell_type": "code",
   "execution_count": 109,
   "metadata": {
    "id": "6EttA7iK48DV"
   },
   "outputs": [],
   "source": [
    "tfidf = TfidfVectorizer()\n",
    "X = tfidf.fit_transform(data_rev.loc[:]['description'].values)"
   ]
  },
  {
   "cell_type": "code",
   "execution_count": 110,
   "metadata": {
    "colab": {
     "base_uri": "https://localhost:8080/"
    },
    "id": "yExO0LZoSPV3",
    "outputId": "cf07945d-f967-4277-bf03-74e0aa18456b"
   },
   "outputs": [
    {
     "data": {
      "text/plain": [
       "(10000, 27750)"
      ]
     },
     "execution_count": 110,
     "metadata": {
      "tags": []
     },
     "output_type": "execute_result"
    }
   ],
   "source": [
    "X.shape"
   ]
  },
  {
   "cell_type": "code",
   "execution_count": 111,
   "metadata": {
    "id": "XYru9oKr5e4w"
   },
   "outputs": [],
   "source": [
    "data_rev['brand'] = data_rev['brand'] % 3007\n",
    "X = sparse.hstack((X, data_rev['price'].values.reshape(-1, 1)))\n",
    "X = sparse.hstack((X, to_categorical(data_rev['brand'].values - 1, num_classes = n_categories)))"
   ]
  },
  {
   "cell_type": "code",
   "execution_count": 112,
   "metadata": {
    "id": "1YuGYe_A5vln"
   },
   "outputs": [],
   "source": [
    "y = data_rev['rate'].values"
   ]
  },
  {
   "cell_type": "code",
   "execution_count": 113,
   "metadata": {
    "colab": {
     "base_uri": "https://localhost:8080/"
    },
    "id": "ZTDy2lGL5sMl",
    "outputId": "bd5296a3-373a-4b43-8fe9-e5792079a388"
   },
   "outputs": [
    {
     "name": "stdout",
     "output_type": "stream",
     "text": [
      "(8000, 30757) (2000, 30757) (8000,) (2000,)\n"
     ]
    }
   ],
   "source": [
    "X_train, X_test, y_train, y_test = train_test_split(\n",
    "    X, y, test_size=0.2, random_state=42)\n",
    "\n",
    "print(X_train.shape, X_test.shape, y_train.shape, y_test.shape)"
   ]
  },
  {
   "cell_type": "code",
   "execution_count": 115,
   "metadata": {
    "colab": {
     "base_uri": "https://localhost:8080/"
    },
    "id": "md198Yah5B2t",
    "outputId": "8e902438-d151-4bcf-8c52-1c45b9bb2bcf"
   },
   "outputs": [
    {
     "name": "stdout",
     "output_type": "stream",
     "text": [
      "accuraccy  0.2595\n",
      "mae  1.0248298451345785\n"
     ]
    }
   ],
   "source": [
    "model = LinearRegression()\n",
    "model.fit(X_train, y_train)\n",
    "predict = model.predict(X_test)\n",
    "predict[predict > 5] = 5\n",
    "predict[predict < 0] = 0\n",
    "print('accuraccy ', accuracy_score(y_test, predict.astype(int)))\n",
    "print('mae ', np.abs((predict - y_test)).mean())"
   ]
  },
  {
   "cell_type": "code",
   "execution_count": null,
   "metadata": {
    "colab": {
     "base_uri": "https://localhost:8080/",
     "height": 279
    },
    "id": "oeI3166Capvm",
    "outputId": "bc5ccabe-56fd-4ba7-ec19-f2126828f28f"
   },
   "outputs": [
    {
     "ename": "TypeError",
     "evalue": "ignored",
     "output_type": "error",
     "traceback": [
      "\u001b[0;31m---------------------------------------------------------------------------\u001b[0m",
      "\u001b[0;31mTypeError\u001b[0m                                 Traceback (most recent call last)",
      "\u001b[0;32m<ipython-input-21-69d706923499>\u001b[0m in \u001b[0;36m<module>\u001b[0;34m()\u001b[0m\n\u001b[0;32m----> 1\u001b[0;31m \u001b[0msaveModel\u001b[0m\u001b[0;34m(\u001b[0m\u001b[0mmodel\u001b[0m\u001b[0;34m)\u001b[0m\u001b[0;34m\u001b[0m\u001b[0;34m\u001b[0m\u001b[0m\n\u001b[0m",
      "\u001b[0;32m<ipython-input-12-23ffdd4db371>\u001b[0m in \u001b[0;36msaveModel\u001b[0;34m(path)\u001b[0m\n\u001b[1;32m      1\u001b[0m \u001b[0;32mdef\u001b[0m \u001b[0msaveModel\u001b[0m\u001b[0;34m(\u001b[0m\u001b[0mpath\u001b[0m\u001b[0;34m)\u001b[0m \u001b[0;34m:\u001b[0m\u001b[0;34m\u001b[0m\u001b[0;34m\u001b[0m\u001b[0m\n\u001b[1;32m      2\u001b[0m   \u001b[0;31m#pkl_filename = \"pickle_model.pkl\"\u001b[0m\u001b[0;34m\u001b[0m\u001b[0;34m\u001b[0m\u001b[0;34m\u001b[0m\u001b[0m\n\u001b[0;32m----> 3\u001b[0;31m   \u001b[0;32mwith\u001b[0m \u001b[0mopen\u001b[0m\u001b[0;34m(\u001b[0m\u001b[0mpath\u001b[0m\u001b[0;34m,\u001b[0m \u001b[0;34m'wb'\u001b[0m\u001b[0;34m)\u001b[0m \u001b[0;32mas\u001b[0m \u001b[0mfile\u001b[0m\u001b[0;34m:\u001b[0m\u001b[0;34m\u001b[0m\u001b[0;34m\u001b[0m\u001b[0m\n\u001b[0m\u001b[1;32m      4\u001b[0m       \u001b[0mpickle\u001b[0m\u001b[0;34m.\u001b[0m\u001b[0mdump\u001b[0m\u001b[0;34m(\u001b[0m\u001b[0mmodel\u001b[0m\u001b[0;34m,\u001b[0m \u001b[0mfile\u001b[0m\u001b[0;34m)\u001b[0m\u001b[0;34m\u001b[0m\u001b[0;34m\u001b[0m\u001b[0m\n\u001b[1;32m      5\u001b[0m \u001b[0;32mdef\u001b[0m \u001b[0mloadModel\u001b[0m\u001b[0;34m(\u001b[0m\u001b[0mpath\u001b[0m\u001b[0;34m)\u001b[0m \u001b[0;34m:\u001b[0m\u001b[0;34m\u001b[0m\u001b[0;34m\u001b[0m\u001b[0m\n",
      "\u001b[0;31mTypeError\u001b[0m: expected str, bytes or os.PathLike object, not LinearRegression"
     ]
    }
   ],
   "source": [
    "saveModel(model)"
   ]
  },
  {
   "cell_type": "code",
   "execution_count": 116,
   "metadata": {
    "id": "yJ20MSFjV2AX"
   },
   "outputs": [],
   "source": [
    "from sklearn.multiclass import OneVsRestClassifier\n",
    "clf = SVC(verbose = 1)\n",
    "clf = OneVsRestClassifier(clf, n_jobs = -1).fit(X_train, y_train)"
   ]
  },
  {
   "cell_type": "code",
   "execution_count": 117,
   "metadata": {
    "colab": {
     "base_uri": "https://localhost:8080/"
    },
    "id": "exz1pNrusU_D",
    "outputId": "b12d1298-0883-4c05-8324-8325c2ecab95"
   },
   "outputs": [
    {
     "data": {
      "text/plain": [
       "0.1755"
      ]
     },
     "execution_count": 117,
     "metadata": {
      "tags": []
     },
     "output_type": "execute_result"
    }
   ],
   "source": [
    "pred = clf.predict(X_test)\n",
    "accuracy_score(pred, y_test)"
   ]
  },
  {
   "cell_type": "code",
   "execution_count": 118,
   "metadata": {
    "colab": {
     "base_uri": "https://localhost:8080/"
    },
    "id": "Bifs0HMNhXi_",
    "outputId": "f31be0d7-b0be-4122-ebb1-49906d5a28a2"
   },
   "outputs": [
    {
     "data": {
      "text/plain": [
       "2.1225"
      ]
     },
     "execution_count": 118,
     "metadata": {
      "tags": []
     },
     "output_type": "execute_result"
    }
   ],
   "source": [
    "pred.mean()"
   ]
  },
  {
   "cell_type": "markdown",
   "metadata": {
    "id": "ZLJuLgqHb3yK"
   },
   "source": [
    "###Full Connection\n"
   ]
  },
  {
   "cell_type": "code",
   "execution_count": null,
   "metadata": {
    "id": "dHn36Kn3iYCm"
   },
   "outputs": [],
   "source": [
    "import torch.nn.functional as F\n",
    "import torch\n",
    "import torch.nn as nn\n",
    "import torch.optim as optim\n",
    "from torch.utils.data import Dataset, DataLoader\n",
    "from torchtext import data\n",
    "import torchvision.transforms as transforms\n",
    "from torch.nn.utils.rnn import pack_padded_sequence, pad_packed_sequence\n",
    "from sklearn.model_selection import train_test_split\n",
    "\n",
    "from IPython.display import clear_output"
   ]
  },
  {
   "cell_type": "code",
   "execution_count": null,
   "metadata": {
    "id": "U02Oa3SqPChP"
   },
   "outputs": [],
   "source": [
    "def torchFromSparse(X, y) :\n",
    "  values = X.data\n",
    "  indices = np.vstack((X.row, X.col))\n",
    "\n",
    "  i = torch.LongTensor(indices)\n",
    "  v = torch.FloatTensor(values)\n",
    "  shape = X.shape\n",
    "\n",
    "  X_tensor = torch.sparse.FloatTensor(i, v, torch.Size(shape))\n",
    "  y_tensor = torch.FloatTensor(y)\n",
    "  return X_tensor, y_tensor"
   ]
  },
  {
   "cell_type": "code",
   "execution_count": null,
   "metadata": {
    "id": "FcbgziVy0AO6"
   },
   "outputs": [],
   "source": [
    "class FC_net(nn.Module):\n",
    "    def __init__(self, in_features, dropout):\n",
    "        \n",
    "        super().__init__()\n",
    "  \n",
    "        self.fc1 = nn.Linear(in_features, 10000)\n",
    "        self.Re = torch.nn.ReLU()\n",
    "        self.fc2 = nn.Linear(10000, 500)\n",
    "        self.dropout = nn.Dropout(dropout)\n",
    "        self.out = nn.Linear(500, 1)\n",
    "    def forward(self, x):\n",
    "        x = self.fc1(x)\n",
    "        x = self.Re(x)\n",
    "        x = self.dropout(x)\n",
    "        x = self.fc2(x)\n",
    "        x = self.Re(x)\n",
    "        x = self.dropout(x)\n",
    "        x = self.out(x)\n",
    "        return x"
   ]
  },
  {
   "cell_type": "code",
   "execution_count": null,
   "metadata": {
    "colab": {
     "base_uri": "https://localhost:8080/"
    },
    "id": "GvTT6Qsk1pI5",
    "outputId": "81963bfc-ab87-4051-e1c8-27a8f3efd5cd"
   },
   "outputs": [
    {
     "name": "stdout",
     "output_type": "stream",
     "text": [
      "torch.Size([4000, 22355]) torch.Size([1000, 22355]) torch.Size([4000]) torch.Size([1000])\n"
     ]
    }
   ],
   "source": [
    "X_train, y_train = torchFromSparse(sparse.coo_matrix(X_train), y_train)\n",
    "X_test, y_test = torchFromSparse(sparse.coo_matrix(X_test), y_test)\n",
    "print(X_train.shape, X_test.shape, y_train.shape, y_test.shape)"
   ]
  },
  {
   "cell_type": "code",
   "execution_count": null,
   "metadata": {
    "id": "zpB-bV4f4-2X"
   },
   "outputs": [],
   "source": [
    "from torch.utils.data import TensorDataset, DataLoader\n",
    "batch_size = 128\n",
    "train_dataset = TensorDataset(X_train, y_train)\n",
    "train_dataloader = DataLoader(train_dataset, batch_size=batch_size,\n",
    "                        shuffle=True)\n",
    "\n",
    "test_dataset = TensorDataset(X_test, y_test)\n",
    "test_dataloader = DataLoader(test_dataset, batch_size=batch_size,\n",
    "                        shuffle=True)"
   ]
  },
  {
   "cell_type": "code",
   "execution_count": null,
   "metadata": {
    "id": "GO-GcNuN4fdt"
   },
   "outputs": [],
   "source": [
    "def train_FC(model, iterator):\n",
    "    \n",
    "    epoch_loss = 0\n",
    "    epoch_acc = 0\n",
    "    \n",
    "    model.train()\n",
    "    \n",
    "    for batch in tqdm(iterator, position=0, leave=True) :\n",
    "        input, label = batch\n",
    "\n",
    "        input = input.to(device)\n",
    "        label = label.to(device)\n",
    "\n",
    "        #print(text.device, text_lengths.device, label.device)\n",
    "        optimizer.zero_grad()\n",
    "        predictions = model(input).squeeze(1).to(device)\n",
    "        loss = criterion(predictions, label)\n",
    "        #print(predictions.device, label.device)\n",
    "        acc = accuracy_score(predictions.cpu().detach().numpy().astype(int), label.cpu().numpy())\n",
    "\n",
    "        loss.backward()\n",
    "        optimizer.step()\n",
    "        \n",
    "        epoch_loss += loss.item()\n",
    "        epoch_acc += acc.item()\n",
    "        \n",
    "    \n",
    "    return epoch_loss / len(iterator), epoch_acc / len(iterator)"
   ]
  },
  {
   "cell_type": "code",
   "execution_count": null,
   "metadata": {
    "id": "ppPIQMhS1nED"
   },
   "outputs": [],
   "source": [
    "device = torch.device('cuda' if torch.cuda.is_available() else 'cpu')\n",
    "\n",
    "model_fc = FC_net(X.shape[1], 0.2).to(device)\n",
    "criterion = nn.MSELoss().to(device)\n",
    "optimizer = torch.optim.Adam(model_fc.parameters(), lr=0.001)"
   ]
  },
  {
   "cell_type": "code",
   "execution_count": null,
   "metadata": {
    "id": "-0rSHKss6hjj"
   },
   "outputs": [],
   "source": [
    "import time\n",
    "for epoch in range(100) :\n",
    "  x = train_FC(model_fc, train_dataloader)\n",
    "  valid_acc = 0\n",
    "  for input, label in test_dataloader :\n",
    "        input = input.to(device)\n",
    "        label = label.to(device)\n",
    "        predictions = model_fc(input).squeeze(1).to(device)\n",
    "        acc = accuracy_score(predictions.cpu().detach().numpy().astype(int), label.cpu().numpy())\n",
    "        valid_acc += acc.item()\n",
    "  print('loss {}, accuracy {}, val_accuracy {}'.format(x[0], x[1], valid_acc / len(test_dataloader)))\n",
    "  time.sleep(0.5)"
   ]
  },
  {
   "cell_type": "markdown",
   "metadata": {
    "id": "e1UmLaEBqd3x"
   },
   "source": [
    "# embedings"
   ]
  },
  {
   "cell_type": "code",
   "execution_count": 18,
   "metadata": {
    "id": "BJqfDk1GqdB9"
   },
   "outputs": [],
   "source": [
    "import torch\n",
    "import torch.nn as nn\n",
    "import pandas as pd\n",
    "import numpy as np\n",
    "import re\n",
    "import spacy\n",
    "#import jovian\n",
    "from collections import Counter\n",
    "from torch.utils.data import Dataset, DataLoader\n",
    "import torch.nn.functional as F\n",
    "import string\n",
    "from torch.nn.utils.rnn import pack_padded_sequence, pad_packed_sequence\n",
    "from sklearn.metrics import mean_squared_error"
   ]
  },
  {
   "cell_type": "code",
   "execution_count": 19,
   "metadata": {
    "id": "E70AFBG9sj9K"
   },
   "outputs": [],
   "source": [
    "from itertools import chain\n",
    "from collections import Counter\n",
    "from operator import itemgetter\n",
    "\n",
    "d = {}\n",
    "for  i in range(len(ru_prepared)):\n",
    "  ru_prepared[i] = ru_prepared[i].split()"
   ]
  },
  {
   "cell_type": "code",
   "execution_count": 20,
   "metadata": {
    "id": "R0qxr9lofYjS"
   },
   "outputs": [],
   "source": [
    "def get_lr(optimizer):\n",
    "    for param_group in optimizer.param_groups:\n",
    "        return param_group['lr']"
   ]
  },
  {
   "cell_type": "code",
   "execution_count": 21,
   "metadata": {
    "colab": {
     "base_uri": "https://localhost:8080/"
    },
    "id": "K8L3YjgwvShx",
    "outputId": "8bad745f-0602-424b-af68-20b579ebc7c7"
   },
   "outputs": [
    {
     "data": {
      "text/plain": [
       "['достоинство',\n",
       " 'экр',\n",
       " 'недостатк',\n",
       " 'плохой',\n",
       " 'качество',\n",
       " 'корпус',\n",
       " 'пол',\n",
       " 'год',\n",
       " 'окантовк',\n",
       " 'начесть',\n",
       " 'осыпат',\n",
       " 'отремонтиров',\n",
       " 'реальна',\n",
       " 'продажа']"
      ]
     },
     "execution_count": 21,
     "metadata": {
      "tags": []
     },
     "output_type": "execute_result"
    }
   ],
   "source": [
    "ru_prepared[0]"
   ]
  },
  {
   "cell_type": "code",
   "execution_count": 23,
   "metadata": {
    "id": "qMzYzLZWvAAr"
   },
   "outputs": [],
   "source": [
    "from collections import defaultdict\n",
    "\n",
    "\n",
    "unique = set()\n",
    "\n",
    "for l in ru_prepared:\n",
    "    unique = unique.union(set(l))\n",
    "result = defaultdict(lambda: 0)\n",
    "for element in unique:\n",
    "    for l in ru_prepared:\n",
    "        result[element] += (element == l[0])"
   ]
  },
  {
   "cell_type": "code",
   "execution_count": 24,
   "metadata": {
    "colab": {
     "base_uri": "https://localhost:8080/"
    },
    "id": "SwBtJJQPsj40",
    "outputId": "1a2bbf14-d6ba-4b4c-d093-a195ecdb34e0"
   },
   "outputs": [
    {
     "name": "stdout",
     "output_type": "stream",
     "text": [
      "num_words before: 23958\n"
     ]
    }
   ],
   "source": [
    "print(\"num_words before:\",len(result.keys()))"
   ]
  },
  {
   "cell_type": "code",
   "execution_count": 25,
   "metadata": {
    "colab": {
     "base_uri": "https://localhost:8080/"
    },
    "id": "OPZlwuJowgMu",
    "outputId": "eac43aed-a99d-4d6b-d384-609513941da9"
   },
   "outputs": [
    {
     "data": {
      "text/plain": [
       "0"
      ]
     },
     "execution_count": 25,
     "metadata": {
      "tags": []
     },
     "output_type": "execute_result"
    }
   ],
   "source": [
    "result['экр']"
   ]
  },
  {
   "cell_type": "code",
   "execution_count": 26,
   "metadata": {
    "id": "FizYLdXvxLVI"
   },
   "outputs": [],
   "source": [
    "for i in ru_prepared:\n",
    "  for  j in i:\n",
    "    result[j] += 1"
   ]
  },
  {
   "cell_type": "code",
   "execution_count": 27,
   "metadata": {
    "colab": {
     "base_uri": "https://localhost:8080/"
    },
    "id": "S9s60tmisj0E",
    "outputId": "3f623368-cd2b-4b96-df51-8a9d1a25cc2e"
   },
   "outputs": [
    {
     "name": "stdout",
     "output_type": "stream",
     "text": [
      "num_words before: 23958\n",
      "num_words after: 12490\n"
     ]
    }
   ],
   "source": [
    "print(\"num_words before:\",len(result.keys()))\n",
    "for word in list(result):\n",
    "    if result[word] < 2:\n",
    "        del result[word]\n",
    "print(\"num_words after:\",len(result.keys()))"
   ]
  },
  {
   "cell_type": "code",
   "execution_count": 28,
   "metadata": {
    "colab": {
     "base_uri": "https://localhost:8080/"
    },
    "id": "B3KtZXvqxjqb",
    "outputId": "d3994ba6-8204-4500-e863-4d5c7a905269"
   },
   "outputs": [
    {
     "name": "stdout",
     "output_type": "stream",
     "text": [
      "num_words before: 12490\n",
      "num_words after: 12482\n"
     ]
    }
   ],
   "source": [
    "print(\"num_words before:\",len(result.keys()))\n",
    "for word in list(result):\n",
    "    if result[word] > 5000:\n",
    "        del result[word]\n",
    "print(\"num_words after:\",len(result.keys()))"
   ]
  },
  {
   "cell_type": "code",
   "execution_count": 29,
   "metadata": {
    "id": "xAFHkvcQxjZH"
   },
   "outputs": [],
   "source": [
    "vocab2index = {\"\":0, \"UNK\":1}\n",
    "words = [\"\", \"UNK\"]\n",
    "for word in result:\n",
    "    vocab2index[word] = len(words)\n",
    "    words.append(word)"
   ]
  },
  {
   "cell_type": "code",
   "execution_count": 30,
   "metadata": {
    "id": "eqB3AchAx_GC"
   },
   "outputs": [],
   "source": [
    "def encode_sentence(text, vocab2index, N=100):\n",
    "    #tokenized = tokenize(text)\n",
    "    encoded = np.zeros(N, dtype=int)\n",
    "    enc1 = np.array([vocab2index.get(word, vocab2index[\"UNK\"]) for word in text])\n",
    "    length = min(N, len(enc1))\n",
    "    encoded[:length] = enc1[:length]\n",
    "    return encoded, length"
   ]
  },
  {
   "cell_type": "code",
   "execution_count": 31,
   "metadata": {
    "colab": {
     "base_uri": "https://localhost:8080/",
     "height": 195
    },
    "id": "5RvTefp9x_j_",
    "outputId": "40ed465c-b12e-4b36-caa4-b2d7e8bcb60e"
   },
   "outputs": [
    {
     "data": {
      "text/html": [
       "<div>\n",
       "<style scoped>\n",
       "    .dataframe tbody tr th:only-of-type {\n",
       "        vertical-align: middle;\n",
       "    }\n",
       "\n",
       "    .dataframe tbody tr th {\n",
       "        vertical-align: top;\n",
       "    }\n",
       "\n",
       "    .dataframe thead th {\n",
       "        text-align: right;\n",
       "    }\n",
       "</style>\n",
       "<table border=\"1\" class=\"dataframe\">\n",
       "  <thead>\n",
       "    <tr style=\"text-align: right;\">\n",
       "      <th></th>\n",
       "      <th>encoded</th>\n",
       "    </tr>\n",
       "  </thead>\n",
       "  <tbody>\n",
       "    <tr>\n",
       "      <th>0</th>\n",
       "      <td>[[1, 1, 1, 4582, 9488, 4959, 3603, 2730, 41, 7...</td>\n",
       "    </tr>\n",
       "    <tr>\n",
       "      <th>1</th>\n",
       "      <td>[[1, 6051, 2751, 5353, 1, 7104, 9520, 4845, 1,...</td>\n",
       "    </tr>\n",
       "    <tr>\n",
       "      <th>2</th>\n",
       "      <td>[[1, 9846, 11104, 1, 9846, 11302, 1, 5708, 103...</td>\n",
       "    </tr>\n",
       "    <tr>\n",
       "      <th>3</th>\n",
       "      <td>[[1, 93, 4703, 11954, 2397, 10097, 6051, 2716,...</td>\n",
       "    </tr>\n",
       "    <tr>\n",
       "      <th>4</th>\n",
       "      <td>[[1, 2751, 5353, 332, 9405, 1583, 6746, 6657, ...</td>\n",
       "    </tr>\n",
       "  </tbody>\n",
       "</table>\n",
       "</div>"
      ],
      "text/plain": [
       "                                             encoded\n",
       "0  [[1, 1, 1, 4582, 9488, 4959, 3603, 2730, 41, 7...\n",
       "1  [[1, 6051, 2751, 5353, 1, 7104, 9520, 4845, 1,...\n",
       "2  [[1, 9846, 11104, 1, 9846, 11302, 1, 5708, 103...\n",
       "3  [[1, 93, 4703, 11954, 2397, 10097, 6051, 2716,...\n",
       "4  [[1, 2751, 5353, 332, 9405, 1583, 6746, 6657, ..."
      ]
     },
     "execution_count": 31,
     "metadata": {
      "tags": []
     },
     "output_type": "execute_result"
    }
   ],
   "source": [
    "reviews = pd.DataFrame()\n",
    "reviews['encoded'] = pd.Series(ru_prepared).apply(lambda x: np.array(encode_sentence(x,vocab2index )))\n",
    "reviews.head()"
   ]
  },
  {
   "cell_type": "code",
   "execution_count": 32,
   "metadata": {
    "id": "daR0o2NRx_bw"
   },
   "outputs": [],
   "source": [
    "X = list(reviews['encoded'])\n",
    "\n",
    "y = list(data_rev['rate'].map({1:0,2:1,3:2,4:3,5:4}))\n",
    "from sklearn.model_selection import train_test_split\n",
    "X_train, X_valid, y_train, y_valid = train_test_split(X, y, test_size=0.2)"
   ]
  },
  {
   "cell_type": "code",
   "execution_count": 34,
   "metadata": {
    "id": "rOUI3W0fx_Vq"
   },
   "outputs": [],
   "source": [
    "class ReviewsDataset(Dataset):\n",
    "    def __init__(self, X, Y):\n",
    "        self.X = X\n",
    "        self.y = Y\n",
    "        \n",
    "    def __len__(self):\n",
    "        return len(self.y)\n",
    "    \n",
    "    def __getitem__(self, idx):\n",
    "        return torch.from_numpy(self.X[idx][0].astype(np.int32)), self.y[idx], self.X[idx][1]"
   ]
  },
  {
   "cell_type": "code",
   "execution_count": 164,
   "metadata": {
    "id": "QEgdh_Qkq_1q"
   },
   "outputs": [],
   "source": [
    "def Mae(y_pred, y) :\n",
    "  y_pred = torch.argmax(y_pred, 1)\n",
    "  #print(y_pred[:5], y[:5])\n",
    "  mae = torch.sum(torch.abs(y_pred - y).type(torch.FloatTensor))\n",
    "  return mae"
   ]
  },
  {
   "cell_type": "code",
   "execution_count": 35,
   "metadata": {
    "id": "9KoJQ4DSx_Pj"
   },
   "outputs": [],
   "source": [
    "train_ds = ReviewsDataset(X_train, y_train)\n",
    "valid_ds = ReviewsDataset(X_valid, y_valid)"
   ]
  },
  {
   "cell_type": "code",
   "execution_count": 145,
   "metadata": {
    "id": "l_hwDqjDzm-X"
   },
   "outputs": [],
   "source": [
    "def train_model(model, epochs=10, lr=0.001, path_to_save = None, step_size = 150, gamma = 0.1):\n",
    "    parameters = filter(lambda p: p.requires_grad, model.parameters())\n",
    "    optimizer = torch.optim.Adam(parameters, lr=lr)\n",
    "    scheduler = torch.optim.lr_scheduler.StepLR(optimizer, step_size = step_size, gamma=gamma)\n",
    "    history = []\n",
    "    for i in range(epochs):\n",
    "        model.train()\n",
    "        sum_loss = 0.0\n",
    "        total = 0\n",
    "        scheduler.step()\n",
    "        for x, y, l in train_dl:\n",
    "            x = x.long()\n",
    "            y = y.long()\n",
    "            y_pred = model(x, l)\n",
    "            optimizer.zero_grad()\n",
    "            loss = F.cross_entropy(y_pred, y)\n",
    "            loss.backward()\n",
    "            optimizer.step()\n",
    "            sum_loss += loss.item()*y.shape[0]\n",
    "            total += y.shape[0]\n",
    "        \n",
    "        val_loss, val_acc, val_rmse, val_mae = validation_metrics(model, val_dl)\n",
    "\n",
    "        history.append((sum_loss/total, val_loss, val_acc, val_rmse, val_mae, get_lr(optimizer)))\n",
    "        if i % 5 == 1:\n",
    "            print(\"epoch %.0f train loss %.3f, val loss %.3f, val accuracy %.3f, and val rmse %.3f, val mae %.3f learning_rate %.6f\" % (i, sum_loss/total, val_loss, val_acc, val_rmse, val_mae, get_lr(optimizer)))\n",
    "            if (not path_to_save is None) :\n",
    "              torch.save(model.state_dict(), path_to_save)\n",
    "    return history\n",
    "\n",
    "def validation_metrics (model, valid_dl):\n",
    "    model.eval()\n",
    "    correct = 0\n",
    "    total = 0\n",
    "    sum_loss = 0.0\n",
    "    sum_rmse = 0.0\n",
    "    sum_mae = 0.0\n",
    "    for x, y, l in valid_dl:\n",
    "        x = x.long()\n",
    "        y = y.long()\n",
    "        y_hat = model(x, l)\n",
    "        loss = F.cross_entropy(y_hat, y)\n",
    "        pred = torch.max(y_hat, 1)[1]\n",
    "        sum_mae += Mae(y_hat, y)\n",
    "        correct += (pred == y).float().sum()\n",
    "        total += y.shape[0]\n",
    "        sum_loss += loss.item()*y.shape[0]\n",
    "        sum_rmse += np.sqrt(mean_squared_error(pred, y.unsqueeze(-1)))*y.shape[0]\n",
    "    model.train()\n",
    "    return sum_loss/total, correct/total, sum_rmse/total, sum_mae / total"
   ]
  },
  {
   "cell_type": "code",
   "execution_count": 141,
   "metadata": {
    "id": "5Ob02gJQnI3x"
   },
   "outputs": [],
   "source": [
    "def plotHist(history) :\n",
    "  name = ['train loss', 'val loss', 'val accuracy', 'val rmse', 'val_mae', 'learning_rate']\n",
    "  history = np.array(history)\n",
    "  for i in range(6) :\n",
    "    plt.plot(history[:, i], label = name[i])\n",
    "    plt.legend()\n",
    "    plt.show()"
   ]
  },
  {
   "cell_type": "code",
   "execution_count": 142,
   "metadata": {
    "id": "ccjfYYnlzmbR"
   },
   "outputs": [],
   "source": [
    "batch_size = 5000\n",
    "vocab_size = len(words)\n",
    "train_dl = DataLoader(train_ds, batch_size=batch_size, shuffle=True)\n",
    "val_dl = DataLoader(valid_ds, batch_size=batch_size)"
   ]
  },
  {
   "cell_type": "markdown",
   "metadata": {
    "id": "iTC2gmx11K2K"
   },
   "source": [
    "###fixed len Lstm"
   ]
  },
  {
   "cell_type": "code",
   "execution_count": 156,
   "metadata": {
    "id": "gyPUeJkMzmjz"
   },
   "outputs": [],
   "source": [
    "class LSTM_fixed_len(torch.nn.Module) :\n",
    "    def __init__(self, vocab_size, embedding_dim, hidden_dim) :\n",
    "        super().__init__()\n",
    "        self.embeddings = nn.Embedding(vocab_size, embedding_dim, padding_idx=0)\n",
    "        self.lstm = nn.LSTM(embedding_dim, hidden_dim, batch_first=True)\n",
    "        self.linear = nn.Linear(hidden_dim, 5)\n",
    "        self.dropout = nn.Dropout(0.2)\n",
    "        \n",
    "    def forward(self, x, l):\n",
    "        x = self.embeddings(x)\n",
    "        x = self.dropout(x)\n",
    "        lstm_out, (ht, ct) = self.lstm(x)\n",
    "        return self.linear(ht[-1])"
   ]
  },
  {
   "cell_type": "code",
   "execution_count": 157,
   "metadata": {
    "id": "ah-REz3Nzv-5"
   },
   "outputs": [],
   "source": [
    "model_fixed =  LSTM_fixed_len(vocab_size, 50, 50)"
   ]
  },
  {
   "cell_type": "code",
   "execution_count": 165,
   "metadata": {
    "colab": {
     "base_uri": "https://localhost:8080/"
    },
    "id": "2854HavazvfB",
    "outputId": "7df5f357-da8c-493c-fbd8-06c7c85c3a39"
   },
   "outputs": [
    {
     "name": "stderr",
     "output_type": "stream",
     "text": [
      "/usr/local/lib/python3.6/dist-packages/torch/optim/lr_scheduler.py:136: UserWarning: Detected call of `lr_scheduler.step()` before `optimizer.step()`. In PyTorch 1.1.0 and later, you should call them in the opposite order: `optimizer.step()` before `lr_scheduler.step()`.  Failure to do this will result in PyTorch skipping the first value of the learning rate schedule. See more details at https://pytorch.org/docs/stable/optim.html#how-to-adjust-learning-rate\n",
      "  \"https://pytorch.org/docs/stable/optim.html#how-to-adjust-learning-rate\", UserWarning)\n"
     ]
    },
    {
     "name": "stdout",
     "output_type": "stream",
     "text": [
      "epoch 1 train loss 1.508, val loss 1.639, val accuracy 0.202, and val rmse 2.349, val mae 1.899 learning_rate 0.010000\n",
      "epoch 6 train loss 1.430, val loss 1.683, val accuracy 0.222, and val rmse 2.242, val mae 1.780 learning_rate 0.010000\n"
     ]
    }
   ],
   "source": [
    "hist = train_model(model_fixed, epochs=10, lr=0.01)"
   ]
  },
  {
   "cell_type": "code",
   "execution_count": 166,
   "metadata": {
    "colab": {
     "base_uri": "https://localhost:8080/",
     "height": 1000
    },
    "id": "6jedWRCM1R01",
    "outputId": "2d17f9b0-ee76-41f4-d9ac-899e1bebe9e4"
   },
   "outputs": [
    {
     "data": {
      "image/png": "[encoded data removed]",
      "text/plain": [
       "<Figure size 576x396 with 1 Axes>"
      ]
     },
     "metadata": {
      "tags": []
     },
     "output_type": "display_data"
    },
    {
     "data": {
      "image/png": "[encoded data removed]",
      "text/plain": [
       "<Figure size 576x396 with 1 Axes>"
      ]
     },
     "metadata": {
      "tags": []
     },
     "output_type": "display_data"
    },
    {
     "data": {
      "image/png": "[encoded data removed]",
      "text/plain": [
       "<Figure size 576x396 with 1 Axes>"
      ]
     },
     "metadata": {
      "tags": []
     },
     "output_type": "display_data"
    },
    {
     "data": {
      "image/png": "[encoded data removed]",
      "text/plain": [
       "<Figure size 576x396 with 1 Axes>"
      ]
     },
     "metadata": {
      "tags": []
     },
     "output_type": "display_data"
    },
    {
     "data": {
      "image/png": "[encoded data removed]",
      "text/plain": [
       "<Figure size 576x396 with 1 Axes>"
      ]
     },
     "metadata": {
      "tags": []
     },
     "output_type": "display_data"
    },
    {
     "data": {
      "image/png": "[encoded data removed]",
      "text/plain": [
       "<Figure size 576x396 with 1 Axes>"
      ]
     },
     "metadata": {
      "tags": []
     },
     "output_type": "display_data"
    }
   ],
   "source": [
    "plotHist(hist)"
   ]
  },
  {
   "cell_type": "markdown",
   "metadata": {
    "id": "-8n36B6s1VN8"
   },
   "source": [
    "###variable len lstm"
   ]
  },
  {
   "cell_type": "code",
   "execution_count": 54,
   "metadata": {
    "id": "FfNZUj9XzvmG"
   },
   "outputs": [],
   "source": [
    "class LSTM_variable_input(torch.nn.Module) :\n",
    "    def __init__(self, vocab_size, embedding_dim, hidden_dim) :\n",
    "        super().__init__()\n",
    "        self.hidden_dim = hidden_dim\n",
    "        self.dropout = nn.Dropout(0.3)\n",
    "        self.embeddings = nn.Embedding(vocab_size, embedding_dim, padding_idx=0)\n",
    "        self.lstm = nn.LSTM(embedding_dim, hidden_dim, batch_first=True)\n",
    "        self.linear = nn.Linear(hidden_dim, 5)\n",
    "        \n",
    "    def forward(self, x, s):\n",
    "        x = self.embeddings(x)\n",
    "        x = self.dropout(x)\n",
    "        x_pack = pack_padded_sequence(x, s, batch_first=True, enforce_sorted=False)\n",
    "        out_pack, (ht, ct) = self.lstm(x_pack)\n",
    "        out = self.linear(ht[-1])\n",
    "        return out"
   ]
  },
  {
   "cell_type": "code",
   "execution_count": null,
   "metadata": {
    "id": "eIGaYst97TtE"
   },
   "outputs": [],
   "source": [
    "model = LSTM_variable_input(vocab_size, 50, 50)"
   ]
  },
  {
   "cell_type": "code",
   "execution_count": null,
   "metadata": {
    "colab": {
     "base_uri": "https://localhost:8080/"
    },
    "id": "Q2kA_lk20mB8",
    "outputId": "ae1d56b3-b91f-402c-f48f-54a908dc7549"
   },
   "outputs": [
    {
     "name": "stderr",
     "output_type": "stream",
     "text": [
      "/usr/local/lib/python3.6/dist-packages/torch/optim/lr_scheduler.py:136: UserWarning: Detected call of `lr_scheduler.step()` before `optimizer.step()`. In PyTorch 1.1.0 and later, you should call them in the opposite order: `optimizer.step()` before `lr_scheduler.step()`.  Failure to do this will result in PyTorch skipping the first value of the learning rate schedule. See more details at https://pytorch.org/docs/stable/optim.html#how-to-adjust-learning-rate\n",
      "  \"https://pytorch.org/docs/stable/optim.html#how-to-adjust-learning-rate\", UserWarning)\n"
     ]
    },
    {
     "name": "stdout",
     "output_type": "stream",
     "text": [
      "epoch 1 train loss 1.602, val loss 1.607, val accuracy 0.213, and val rmse 1.971, val mae 1.556 learning_rate 0.005000\n",
      "epoch 6 train loss 1.551, val loss 1.573, val accuracy 0.260, and val rmse 1.814, val mae 1.378 learning_rate 0.005000\n",
      "epoch 11 train loss 1.437, val loss 1.491, val accuracy 0.306, and val rmse 1.631, val mae 1.196 learning_rate 0.005000\n",
      "epoch 16 train loss 1.301, val loss 1.512, val accuracy 0.328, and val rmse 1.554, val mae 1.121 learning_rate 0.005000\n",
      "epoch 21 train loss 1.201, val loss 1.612, val accuracy 0.335, and val rmse 1.524, val mae 1.097 learning_rate 0.005000\n",
      "epoch 26 train loss 1.110, val loss 1.543, val accuracy 0.362, and val rmse 1.395, val mae 0.982 learning_rate 0.005000\n",
      "epoch 31 train loss 1.029, val loss 1.711, val accuracy 0.364, and val rmse 1.431, val mae 1.008 learning_rate 0.005000\n",
      "epoch 36 train loss 0.954, val loss 1.697, val accuracy 0.382, and val rmse 1.357, val mae 0.940 learning_rate 0.005000\n",
      "epoch 41 train loss 0.882, val loss 1.736, val accuracy 0.379, and val rmse 1.283, val mae 0.896 learning_rate 0.005000\n"
     ]
    }
   ],
   "source": [
    "hist = train_model(model, epochs=200, lr=0.005, step_size = 100, path_to_save = \"/content/drive/MyDrive/DATAS/yamarket/lstm_dump\") #lr = 0.005, epochs = 600, gamma = 0.1, step_size = 150"
   ]
  },
  {
   "cell_type": "code",
   "execution_count": null,
   "metadata": {
    "id": "Jj7cLmZqqAPu"
   },
   "outputs": [],
   "source": [
    "plotHist(hist)"
   ]
  },
  {
   "cell_type": "markdown",
   "metadata": {
    "id": "b1r4LV211z09"
   },
   "source": [
    "###variable len lstm my variant"
   ]
  },
  {
   "cell_type": "code",
   "execution_count": 102,
   "metadata": {
    "id": "m3IW2WDC2el2"
   },
   "outputs": [],
   "source": [
    "class LSTM_net(nn.Module):\n",
    "    def __init__(self, vocab_size, embedding_dim, hidden_dim):\n",
    "        \n",
    "        super().__init__()\n",
    "        \n",
    "        self.embedding = nn.Embedding(vocab_size, embedding_dim, padding_idx=0)\n",
    "        \n",
    "        self.rnn = nn.LSTM(embedding_dim, \n",
    "                           hidden_dim, \n",
    "                           bidirectional=True, \n",
    "                           batch_first = True,\n",
    "                           dropout=0.2)\n",
    "        \n",
    "        self.fc1 = nn.Linear(hidden_dim * 2, hidden_dim)\n",
    "        self.Re = torch.nn.ReLU()\n",
    "        self.fc2 = nn.Linear(hidden_dim, 5)\n",
    "        \n",
    "        self.dropout = nn.Dropout(0.2)\n",
    "        \n",
    "    def forward(self, text, text_lengths):\n",
    "        embedded = self.embedding(text)\n",
    "        packed_embedded = nn.utils.rnn.pack_padded_sequence(embedded, text_lengths, batch_first=True, enforce_sorted=False)\n",
    "        packed_output, (hidden, cell) = self.rnn(packed_embedded)\n",
    "        #print(hidden.size())\n",
    "        #return(hidden)\n",
    "        hidden = self.dropout(torch.cat((hidden[-2,:,:], hidden[-1,:,:]), dim = 1))\n",
    "        output = self.fc1(hidden)\n",
    "        output = self.Re(output)\n",
    "        output = self.fc2(output)\n",
    "        #output = torch.nn.ReLU(output)\n",
    "        output = self.dropout(output)\n",
    "            \n",
    "        return output"
   ]
  },
  {
   "cell_type": "code",
   "execution_count": 103,
   "metadata": {
    "colab": {
     "base_uri": "https://localhost:8080/"
    },
    "id": "NqZpOdZq38NE",
    "outputId": "57f8f095-969e-4ce5-ae22-6fec89257692"
   },
   "outputs": [
    {
     "name": "stderr",
     "output_type": "stream",
     "text": [
      "/usr/local/lib/python3.6/dist-packages/torch/nn/modules/rnn.py:61: UserWarning: dropout option adds dropout after all but last recurrent layer, so non-zero dropout expects num_layers greater than 1, but got dropout=0.2 and num_layers=1\n",
      "  \"num_layers={}\".format(dropout, num_layers))\n"
     ]
    }
   ],
   "source": [
    "model = LSTM_net(vocab_size, 50, 50)"
   ]
  },
  {
   "cell_type": "code",
   "execution_count": 104,
   "metadata": {
    "colab": {
     "base_uri": "https://localhost:8080/",
     "height": 592
    },
    "id": "3XsyblvR47Z4",
    "outputId": "2acf39d8-9292-4219-ada2-f8010343b628"
   },
   "outputs": [
    {
     "name": "stderr",
     "output_type": "stream",
     "text": [
      "/usr/local/lib/python3.6/dist-packages/torch/optim/lr_scheduler.py:136: UserWarning: Detected call of `lr_scheduler.step()` before `optimizer.step()`. In PyTorch 1.1.0 and later, you should call them in the opposite order: `optimizer.step()` before `lr_scheduler.step()`.  Failure to do this will result in PyTorch skipping the first value of the learning rate schedule. See more details at https://pytorch.org/docs/stable/optim.html#how-to-adjust-learning-rate\n",
      "  \"https://pytorch.org/docs/stable/optim.html#how-to-adjust-learning-rate\", UserWarning)\n"
     ]
    },
    {
     "name": "stdout",
     "output_type": "stream",
     "text": [
      "epoch 1 train loss 1.608, val loss 1.607, val accuracy 0.227, and val rmse 2.099, learning_rate 0.005000\n",
      "epoch 6 train loss 1.520, val loss 1.529, val accuracy 0.293, and val rmse 1.743, learning_rate 0.005000\n",
      "epoch 11 train loss 1.429, val loss 1.495, val accuracy 0.301, and val rmse 1.694, learning_rate 0.005000\n",
      "epoch 16 train loss 1.288, val loss 1.436, val accuracy 0.338, and val rmse 1.436, learning_rate 0.005000\n",
      "epoch 21 train loss 1.126, val loss 1.415, val accuracy 0.368, and val rmse 1.376, learning_rate 0.005000\n",
      "epoch 26 train loss 0.964, val loss 1.481, val accuracy 0.378, and val rmse 1.270, learning_rate 0.005000\n",
      "epoch 31 train loss 0.826, val loss 1.619, val accuracy 0.375, and val rmse 1.297, learning_rate 0.005000\n",
      "epoch 36 train loss 0.642, val loss 1.839, val accuracy 0.376, and val rmse 1.232, learning_rate 0.005000\n",
      "epoch 41 train loss 0.495, val loss 2.406, val accuracy 0.350, and val rmse 1.369, learning_rate 0.005000\n",
      "epoch 46 train loss 0.405, val loss 2.528, val accuracy 0.379, and val rmse 1.315, learning_rate 0.005000\n",
      "epoch 51 train loss 0.301, val loss 2.725, val accuracy 0.368, and val rmse 1.247, learning_rate 0.005000\n",
      "epoch 56 train loss 0.220, val loss 3.154, val accuracy 0.367, and val rmse 1.251, learning_rate 0.005000\n",
      "epoch 61 train loss 0.174, val loss 3.650, val accuracy 0.375, and val rmse 1.237, learning_rate 0.005000\n"
     ]
    },
    {
     "ename": "KeyboardInterrupt",
     "evalue": "ignored",
     "output_type": "error",
     "traceback": [
      "\u001b[0;31m---------------------------------------------------------------------------\u001b[0m",
      "\u001b[0;31mKeyboardInterrupt\u001b[0m                         Traceback (most recent call last)",
      "\u001b[0;32m<ipython-input-104-66d203b2418a>\u001b[0m in \u001b[0;36m<module>\u001b[0;34m()\u001b[0m\n\u001b[0;32m----> 1\u001b[0;31m \u001b[0mhist\u001b[0m \u001b[0;34m=\u001b[0m \u001b[0mtrain_model\u001b[0m\u001b[0;34m(\u001b[0m\u001b[0mmodel\u001b[0m\u001b[0;34m,\u001b[0m \u001b[0mepochs\u001b[0m\u001b[0;34m=\u001b[0m\u001b[0;36m300\u001b[0m\u001b[0;34m,\u001b[0m \u001b[0mlr\u001b[0m\u001b[0;34m=\u001b[0m\u001b[0;36m0.005\u001b[0m\u001b[0;34m,\u001b[0m \u001b[0mstep_size\u001b[0m \u001b[0;34m=\u001b[0m \u001b[0;36m100\u001b[0m\u001b[0;34m,\u001b[0m \u001b[0mpath_to_save\u001b[0m \u001b[0;34m=\u001b[0m \u001b[0;34m\"/content/drive/MyDrive/DATAS/yamarket/Mylstm_dump\"\u001b[0m\u001b[0;34m)\u001b[0m \u001b[0;31m#lr = 0.005, epochs = 600, gamma = 0.1, step_size = 150\u001b[0m\u001b[0;34m\u001b[0m\u001b[0;34m\u001b[0m\u001b[0m\n\u001b[0m",
      "\u001b[0;32m<ipython-input-100-f5858beae2f3>\u001b[0m in \u001b[0;36mtrain_model\u001b[0;34m(model, epochs, lr, path_to_save, step_size, gamma)\u001b[0m\n\u001b[1;32m     15\u001b[0m             \u001b[0moptimizer\u001b[0m\u001b[0;34m.\u001b[0m\u001b[0mzero_grad\u001b[0m\u001b[0;34m(\u001b[0m\u001b[0;34m)\u001b[0m\u001b[0;34m\u001b[0m\u001b[0;34m\u001b[0m\u001b[0m\n\u001b[1;32m     16\u001b[0m             \u001b[0mloss\u001b[0m \u001b[0;34m=\u001b[0m \u001b[0mF\u001b[0m\u001b[0;34m.\u001b[0m\u001b[0mcross_entropy\u001b[0m\u001b[0;34m(\u001b[0m\u001b[0my_pred\u001b[0m\u001b[0;34m,\u001b[0m \u001b[0my\u001b[0m\u001b[0;34m)\u001b[0m\u001b[0;34m\u001b[0m\u001b[0;34m\u001b[0m\u001b[0m\n\u001b[0;32m---> 17\u001b[0;31m             \u001b[0mloss\u001b[0m\u001b[0;34m.\u001b[0m\u001b[0mbackward\u001b[0m\u001b[0;34m(\u001b[0m\u001b[0;34m)\u001b[0m\u001b[0;34m\u001b[0m\u001b[0;34m\u001b[0m\u001b[0m\n\u001b[0m\u001b[1;32m     18\u001b[0m             \u001b[0moptimizer\u001b[0m\u001b[0;34m.\u001b[0m\u001b[0mstep\u001b[0m\u001b[0;34m(\u001b[0m\u001b[0;34m)\u001b[0m\u001b[0;34m\u001b[0m\u001b[0;34m\u001b[0m\u001b[0m\n\u001b[1;32m     19\u001b[0m             \u001b[0msum_loss\u001b[0m \u001b[0;34m+=\u001b[0m \u001b[0mloss\u001b[0m\u001b[0;34m.\u001b[0m\u001b[0mitem\u001b[0m\u001b[0;34m(\u001b[0m\u001b[0;34m)\u001b[0m\u001b[0;34m*\u001b[0m\u001b[0my\u001b[0m\u001b[0;34m.\u001b[0m\u001b[0mshape\u001b[0m\u001b[0;34m[\u001b[0m\u001b[0;36m0\u001b[0m\u001b[0;34m]\u001b[0m\u001b[0;34m\u001b[0m\u001b[0;34m\u001b[0m\u001b[0m\n",
      "\u001b[0;32m/usr/local/lib/python3.6/dist-packages/torch/tensor.py\u001b[0m in \u001b[0;36mbackward\u001b[0;34m(self, gradient, retain_graph, create_graph)\u001b[0m\n\u001b[1;32m    219\u001b[0m                 \u001b[0mretain_graph\u001b[0m\u001b[0;34m=\u001b[0m\u001b[0mretain_graph\u001b[0m\u001b[0;34m,\u001b[0m\u001b[0;34m\u001b[0m\u001b[0;34m\u001b[0m\u001b[0m\n\u001b[1;32m    220\u001b[0m                 create_graph=create_graph)\n\u001b[0;32m--> 221\u001b[0;31m         \u001b[0mtorch\u001b[0m\u001b[0;34m.\u001b[0m\u001b[0mautograd\u001b[0m\u001b[0;34m.\u001b[0m\u001b[0mbackward\u001b[0m\u001b[0;34m(\u001b[0m\u001b[0mself\u001b[0m\u001b[0;34m,\u001b[0m \u001b[0mgradient\u001b[0m\u001b[0;34m,\u001b[0m \u001b[0mretain_graph\u001b[0m\u001b[0;34m,\u001b[0m \u001b[0mcreate_graph\u001b[0m\u001b[0;34m)\u001b[0m\u001b[0;34m\u001b[0m\u001b[0;34m\u001b[0m\u001b[0m\n\u001b[0m\u001b[1;32m    222\u001b[0m \u001b[0;34m\u001b[0m\u001b[0m\n\u001b[1;32m    223\u001b[0m     \u001b[0;32mdef\u001b[0m \u001b[0mregister_hook\u001b[0m\u001b[0;34m(\u001b[0m\u001b[0mself\u001b[0m\u001b[0;34m,\u001b[0m \u001b[0mhook\u001b[0m\u001b[0;34m)\u001b[0m\u001b[0;34m:\u001b[0m\u001b[0;34m\u001b[0m\u001b[0;34m\u001b[0m\u001b[0m\n",
      "\u001b[0;32m/usr/local/lib/python3.6/dist-packages/torch/autograd/__init__.py\u001b[0m in \u001b[0;36mbackward\u001b[0;34m(tensors, grad_tensors, retain_graph, create_graph, grad_variables)\u001b[0m\n\u001b[1;32m    130\u001b[0m     Variable._execution_engine.run_backward(\n\u001b[1;32m    131\u001b[0m         \u001b[0mtensors\u001b[0m\u001b[0;34m,\u001b[0m \u001b[0mgrad_tensors_\u001b[0m\u001b[0;34m,\u001b[0m \u001b[0mretain_graph\u001b[0m\u001b[0;34m,\u001b[0m \u001b[0mcreate_graph\u001b[0m\u001b[0;34m,\u001b[0m\u001b[0;34m\u001b[0m\u001b[0;34m\u001b[0m\u001b[0m\n\u001b[0;32m--> 132\u001b[0;31m         allow_unreachable=True)  # allow_unreachable flag\n\u001b[0m\u001b[1;32m    133\u001b[0m \u001b[0;34m\u001b[0m\u001b[0m\n\u001b[1;32m    134\u001b[0m \u001b[0;34m\u001b[0m\u001b[0m\n",
      "\u001b[0;31mKeyboardInterrupt\u001b[0m: "
     ]
    }
   ],
   "source": [
    "hist = train_model(model, epochs=300, lr=0.005, step_size = 100, path_to_save = \"/content/drive/MyDrive/DATAS/yamarket/Mylstm_dump\") #lr = 0.005, epochs = 600, gamma = 0.1, step_size = 150"
   ]
  },
  {
   "cell_type": "code",
   "execution_count": null,
   "metadata": {
    "id": "RdtLSvLR7jIZ"
   },
   "outputs": [],
   "source": [
    "plotHist(hist)"
   ]
  },
  {
   "cell_type": "markdown",
   "metadata": {
    "id": "-nw78IVA9Wul"
   },
   "source": [
    "###Convolution"
   ]
  },
  {
   "cell_type": "code",
   "execution_count": 105,
   "metadata": {
    "id": "mTDG8qyg9b3F"
   },
   "outputs": [],
   "source": [
    "class CNN_net(nn.Module):\n",
    "    def __init__(self, vocab_size, embedding_dim, hidden_dim, num_filters = 64):\n",
    "        \n",
    "        super().__init__()\n",
    "        \n",
    "        self.embedding = nn.Embedding(vocab_size, embedding_dim, padding_idx=0)\n",
    "        Ks = [3, 5, 7]\n",
    "        \n",
    "        # three different convolutional layers\n",
    "        self.convs = nn.ModuleList([nn.Conv1d(embedding_dim, num_filters, k) for k in Ks])\n",
    "        self.dropout = nn.Dropout(0.2)  # a dropout layer\n",
    "        self.fc1 = nn.Linear(3 * num_filters, 5)  # a dense layer for classification\n",
    "        self.Re = torch.nn.ReLU()\n",
    "    \n",
    "    @staticmethod\n",
    "    def conv_and_max_pool(x, conv):\n",
    "        \"\"\"Convolution and global max pooling layer\"\"\"\n",
    "        return F.relu(conv(x).permute(0, 2, 1).max(1)[0])\n",
    "\n",
    "    def forward(self, inputs, lenght):\n",
    "        # Conv1d takes in (batch, channels, seq_len), but raw embedded is (batch, seq_len, channels)\n",
    "        embedded = self.embedding(inputs).permute(0, 2, 1)\n",
    "        x = [self.conv_and_max_pool(embedded, k) for k in self.convs]  # convolution and global max pooling\n",
    "        x = self.fc1(self.dropout(torch.cat(x, 1)))  # concatenation and dropout\n",
    "\n",
    "        return x"
   ]
  },
  {
   "cell_type": "code",
   "execution_count": 167,
   "metadata": {
    "id": "wLSswK2sD0tc"
   },
   "outputs": [],
   "source": [
    "model = CNN_net(vocab_size, 50, 50)"
   ]
  },
  {
   "cell_type": "code",
   "execution_count": 168,
   "metadata": {
    "colab": {
     "base_uri": "https://localhost:8080/"
    },
    "id": "PqeoSHcCDusB",
    "outputId": "8ae154bc-3ea4-4fc4-a7bc-e8cd3e0e5239"
   },
   "outputs": [
    {
     "name": "stderr",
     "output_type": "stream",
     "text": [
      "/usr/local/lib/python3.6/dist-packages/torch/optim/lr_scheduler.py:136: UserWarning: Detected call of `lr_scheduler.step()` before `optimizer.step()`. In PyTorch 1.1.0 and later, you should call them in the opposite order: `optimizer.step()` before `lr_scheduler.step()`.  Failure to do this will result in PyTorch skipping the first value of the learning rate schedule. See more details at https://pytorch.org/docs/stable/optim.html#how-to-adjust-learning-rate\n",
      "  \"https://pytorch.org/docs/stable/optim.html#how-to-adjust-learning-rate\", UserWarning)\n"
     ]
    },
    {
     "name": "stdout",
     "output_type": "stream",
     "text": [
      "epoch 1 train loss 1.710, val loss 1.999, val accuracy 0.240, and val rmse 1.689, val mae 1.314 learning_rate 0.005000\n",
      "epoch 6 train loss 1.424, val loss 1.626, val accuracy 0.292, and val rmse 1.483, val mae 1.112 learning_rate 0.005000\n",
      "epoch 11 train loss 1.264, val loss 1.487, val accuracy 0.316, and val rmse 1.415, val mae 1.046 learning_rate 0.005000\n",
      "epoch 16 train loss 1.105, val loss 1.422, val accuracy 0.347, and val rmse 1.333, val mae 0.968 learning_rate 0.005000\n",
      "epoch 21 train loss 0.948, val loss 1.367, val accuracy 0.377, and val rmse 1.314, val mae 0.930 learning_rate 0.005000\n",
      "epoch 26 train loss 0.798, val loss 1.359, val accuracy 0.390, and val rmse 1.266, val mae 0.890 learning_rate 0.005000\n",
      "epoch 31 train loss 0.665, val loss 1.372, val accuracy 0.382, and val rmse 1.265, val mae 0.891 learning_rate 0.005000\n",
      "epoch 36 train loss 0.537, val loss 1.399, val accuracy 0.379, and val rmse 1.253, val mae 0.885 learning_rate 0.005000\n",
      "epoch 41 train loss 0.444, val loss 1.437, val accuracy 0.389, and val rmse 1.265, val mae 0.886 learning_rate 0.005000\n",
      "epoch 46 train loss 0.356, val loss 1.487, val accuracy 0.398, and val rmse 1.251, val mae 0.868 learning_rate 0.005000\n",
      "epoch 51 train loss 0.297, val loss 1.539, val accuracy 0.382, and val rmse 1.257, val mae 0.880 learning_rate 0.005000\n",
      "epoch 56 train loss 0.224, val loss 1.598, val accuracy 0.380, and val rmse 1.248, val mae 0.877 learning_rate 0.005000\n",
      "epoch 61 train loss 0.189, val loss 1.656, val accuracy 0.383, and val rmse 1.244, val mae 0.873 learning_rate 0.005000\n",
      "epoch 66 train loss 0.159, val loss 1.709, val accuracy 0.393, and val rmse 1.268, val mae 0.881 learning_rate 0.005000\n",
      "epoch 71 train loss 0.131, val loss 1.733, val accuracy 0.384, and val rmse 1.238, val mae 0.868 learning_rate 0.000500\n",
      "epoch 76 train loss 0.125, val loss 1.737, val accuracy 0.384, and val rmse 1.256, val mae 0.879 learning_rate 0.000500\n",
      "epoch 81 train loss 0.121, val loss 1.745, val accuracy 0.382, and val rmse 1.244, val mae 0.874 learning_rate 0.000500\n",
      "epoch 86 train loss 0.117, val loss 1.750, val accuracy 0.381, and val rmse 1.254, val mae 0.881 learning_rate 0.000500\n",
      "epoch 91 train loss 0.120, val loss 1.754, val accuracy 0.381, and val rmse 1.252, val mae 0.880 learning_rate 0.000500\n",
      "epoch 96 train loss 0.115, val loss 1.760, val accuracy 0.380, and val rmse 1.249, val mae 0.878 learning_rate 0.000500\n",
      "epoch 101 train loss 0.107, val loss 1.763, val accuracy 0.383, and val rmse 1.247, val mae 0.876 learning_rate 0.000500\n",
      "epoch 106 train loss 0.109, val loss 1.769, val accuracy 0.382, and val rmse 1.246, val mae 0.877 learning_rate 0.000500\n",
      "epoch 111 train loss 0.103, val loss 1.773, val accuracy 0.382, and val rmse 1.248, val mae 0.878 learning_rate 0.000500\n",
      "epoch 116 train loss 0.102, val loss 1.777, val accuracy 0.382, and val rmse 1.261, val mae 0.885 learning_rate 0.000500\n",
      "epoch 121 train loss 0.100, val loss 1.785, val accuracy 0.382, and val rmse 1.245, val mae 0.877 learning_rate 0.000500\n",
      "epoch 126 train loss 0.101, val loss 1.790, val accuracy 0.382, and val rmse 1.252, val mae 0.879 learning_rate 0.000500\n",
      "epoch 131 train loss 0.093, val loss 1.795, val accuracy 0.382, and val rmse 1.257, val mae 0.883 learning_rate 0.000500\n",
      "epoch 136 train loss 0.092, val loss 1.803, val accuracy 0.379, and val rmse 1.255, val mae 0.884 learning_rate 0.000500\n",
      "epoch 141 train loss 0.090, val loss 1.805, val accuracy 0.378, and val rmse 1.254, val mae 0.884 learning_rate 0.000050\n",
      "epoch 146 train loss 0.091, val loss 1.805, val accuracy 0.379, and val rmse 1.255, val mae 0.885 learning_rate 0.000050\n"
     ]
    }
   ],
   "source": [
    "hist = train_model(model, epochs=150, lr=0.005, step_size = 70)"
   ]
  },
  {
   "cell_type": "code",
   "execution_count": 169,
   "metadata": {
    "colab": {
     "base_uri": "https://localhost:8080/",
     "height": 1000
    },
    "id": "P73JG0lhys5I",
    "outputId": "49b56454-b4d4-4487-93dc-d7e1a0e6aa8a"
   },
   "outputs": [
    {
     "data": {
      "image/png": "[encoded data removed]",
      "text/plain": [
       "<Figure size 576x396 with 1 Axes>"
      ]
     },
     "metadata": {
      "tags": []
     },
     "output_type": "display_data"
    },
    {
     "data": {
      "image/png": "[encoded data removed]",
      "text/plain": [
       "<Figure size 576x396 with 1 Axes>"
      ]
     },
     "metadata": {
      "tags": []
     },
     "output_type": "display_data"
    },
    {
     "data": {
      "image/png": "[encoded data removed]",
      "text/plain": [
       "<Figure size 576x396 with 1 Axes>"
      ]
     },
     "metadata": {
      "tags": []
     },
     "output_type": "display_data"
    },
    {
     "data": {
      "image/png": "[encoded data removed]",
      "text/plain": [
       "<Figure size 576x396 with 1 Axes>"
      ]
     },
     "metadata": {
      "tags": []
     },
     "output_type": "display_data"
    },
    {
     "data": {
      "image/png": "[encoded data removed]",
      "text/plain": [
       "<Figure size 576x396 with 1 Axes>"
      ]
     },
     "metadata": {
      "tags": []
     },
     "output_type": "display_data"
    },
    {
     "data": {
      "image/png": "[encoded data removed]",
      "text/plain": [
       "<Figure size 576x396 with 1 Axes>"
      ]
     },
     "metadata": {
      "tags": []
     },
     "output_type": "display_data"
    }
   ],
   "source": [
    "plotHist(hist)"
   ]
  },
  {
   "cell_type": "markdown",
   "metadata": {
    "id": "ueGqvehDe2ln"
   },
   "source": [
    "###Kaggle variant"
   ]
  },
  {
   "cell_type": "code",
   "execution_count": null,
   "metadata": {
    "id": "Vg9AjIvyg6RA"
   },
   "outputs": [],
   "source": [
    "SEED = 42\n",
    "\n",
    "torch.manual_seed(SEED)\n",
    "torch.backends.cudnn.deterministic = True\n",
    "torch.backends.cudnn.benchmark = False"
   ]
  },
  {
   "cell_type": "code",
   "execution_count": null,
   "metadata": {
    "id": "DDp_-9fqfv8M"
   },
   "outputs": [],
   "source": [
    "from sklearn.model_selection import train_test_split\n",
    "train_df, valid_df = train_test_split(data_rev)"
   ]
  },
  {
   "cell_type": "code",
   "execution_count": null,
   "metadata": {
    "id": "aCAFVUDPhEle"
   },
   "outputs": [],
   "source": [
    "class DataFrameDataset(data.Dataset):\n",
    "\n",
    "    def __init__(self, df, fields, is_test=False, **kwargs):\n",
    "        examples = []\n",
    "        y = df['rate'].values\n",
    "        x = df['description'].values\n",
    "        for i in tqdm(range(len(y)), position=0, leave=True) :\n",
    "          text = x[i]\n",
    "          label = y[i]\n",
    "          examples.append(data.Example.fromlist([text, label], fields))\n",
    "\n",
    "        super().__init__(examples, fields, **kwargs)\n",
    "\n",
    "    @staticmethod\n",
    "    def sort_key(ex):\n",
    "        return len(ex.description)\n",
    "\n",
    "    @classmethod\n",
    "    def splits(cls, fields, train_df, val_df=None, test_df=None, **kwargs):\n",
    "        train_data, val_data, test_data = (None, None, None)\n",
    "        data_field = fields\n",
    "\n",
    "        if train_df is not None:\n",
    "            train_data = cls(train_df.copy(), data_field, **kwargs)\n",
    "        if val_df is not None:\n",
    "            val_data = cls(val_df.copy(), data_field, **kwargs)\n",
    "        if test_df is not None:\n",
    "            test_data = cls(test_df.copy(), data_field, True, **kwargs)\n",
    "\n",
    "        return tuple(d for d in (train_data, val_data, test_data) if d is not None)"
   ]
  },
  {
   "cell_type": "code",
   "execution_count": null,
   "metadata": {
    "colab": {
     "base_uri": "https://localhost:8080/"
    },
    "id": "PmtoltvOe6UK",
    "outputId": "acc81865-4cde-4bf2-a017-e3867a15cf76"
   },
   "outputs": [
    {
     "name": "stderr",
     "output_type": "stream",
     "text": [
      "100%|██████████| 3750/3750 [00:01<00:00, 3428.14it/s]\n",
      "100%|██████████| 1250/1250 [00:00<00:00, 3871.61it/s]\n"
     ]
    }
   ],
   "source": [
    "TEXT = data.Field(tokenize = 'spacy', include_lengths = True)\n",
    "LABEL = data.LabelField(dtype = torch.float)\n",
    "fields = [('description',TEXT), ('rate',LABEL)]\n",
    "train_ds, val_ds = DataFrameDataset.splits(fields, train_df = train_df, val_df = valid_df)"
   ]
  },
  {
   "cell_type": "code",
   "execution_count": null,
   "metadata": {
    "colab": {
     "base_uri": "https://localhost:8080/"
    },
    "id": "_VmLeVxcjONC",
    "outputId": "335f2b31-607a-4918-9774-35b7124ebf63"
   },
   "outputs": [
    {
     "name": "stdout",
     "output_type": "stream",
     "text": [
      "{'description': ['достоинств', 'шустр', 'экра', 'показа', 'очен', 'переда', 'цвет', 'дела', 'классн', 'фотк', 'прост', 'супер', 'некотор', 'момет', 'зеральн', 'фотоаппарат', 'недостатк', 'слома', 'раз', 'наушник', 'втор', 'ден', 'эт', 'очен', 'важн', 'очен', 'огорч', 'техникик', 'разьем', 'лома', 'комментар', 'пок', 'ок', 'кром', 'разъем', 'наушник'], 'rate': 2}\n",
      "<class 'torchtext.data.example.Example'>\n"
     ]
    }
   ],
   "source": [
    "print(vars(train_ds[0]))\n",
    "print(type(train_ds[0]))"
   ]
  },
  {
   "cell_type": "code",
   "execution_count": null,
   "metadata": {
    "colab": {
     "background_save": true,
     "base_uri": "https://localhost:8080/"
    },
    "id": "m396zIoCgUS1",
    "outputId": "323ee689-6373-4445-a265-264c2f48fda7"
   },
   "outputs": [
    {
     "name": "stderr",
     "output_type": "stream",
     "text": [
      ".vector_cache/glove.6B.zip: 862MB [06:51, 2.10MB/s]                           \n",
      "100%|█████████▉| 399370/400000 [00:27<00:00, 13923.78it/s]"
     ]
    }
   ],
   "source": [
    "MAX_VOCAB_SIZE = 20000\n",
    "LABEL.build_vocab(train_ds)\n",
    "TEXT.build_vocab(train_ds, \n",
    "                 max_size = MAX_VOCAB_SIZE,\n",
    "                 vectors = 'glove.6B.200d',\n",
    "                 unk_init = torch.Tensor.zero_)"
   ]
  },
  {
   "cell_type": "code",
   "execution_count": null,
   "metadata": {
    "id": "gS5giU6LnTxy"
   },
   "outputs": [],
   "source": [
    "BATCH_SIZE = 128\n",
    "\n",
    "device = torch.device('cuda' if torch.cuda.is_available() else 'cpu')\n",
    "\n",
    "train_iterator, valid_iterator = data.BucketIterator.splits(\n",
    "    (train_ds, val_ds), \n",
    "    batch_size = BATCH_SIZE,\n",
    "    sort_within_batch = True,\n",
    "    device = device)"
   ]
  },
  {
   "cell_type": "code",
   "execution_count": null,
   "metadata": {
    "id": "g86iJetenXtG"
   },
   "outputs": [],
   "source": [
    "num_epochs = 30\n",
    "learning_rate = 0.001\n",
    "\n",
    "INPUT_DIM = len(TEXT.vocab)\n",
    "EMBEDDING_DIM = 200\n",
    "HIDDEN_DIM = 256\n",
    "OUTPUT_DIM = 1\n",
    "N_LAYERS = 2\n",
    "BIDIRECTIONAL = True\n",
    "DROPOUT = 0.2"
   ]
  },
  {
   "cell_type": "code",
   "execution_count": null,
   "metadata": {
    "id": "6JCxxV85ngxp"
   },
   "outputs": [],
   "source": [
    "class LSTM_net(nn.Module):\n",
    "    def __init__(self, vocab_size, embedding_dim, hidden_dim, output_dim, n_layers, \n",
    "                 bidirectional, dropout):\n",
    "        \n",
    "        super().__init__()\n",
    "        \n",
    "        self.embedding = nn.Embedding(vocab_size, embedding_dim)\n",
    "        \n",
    "        self.rnn = nn.LSTM(embedding_dim, \n",
    "                           hidden_dim, \n",
    "                           num_layers=n_layers, \n",
    "                           bidirectional=bidirectional, \n",
    "                           dropout=dropout)\n",
    "        \n",
    "        self.fc1 = nn.Linear(hidden_dim * 2, hidden_dim)\n",
    "        self.Re = torch.nn.ReLU()\n",
    "        self.fc2 = nn.Linear(hidden_dim, 1)\n",
    "        \n",
    "        self.dropout = nn.Dropout(dropout)\n",
    "        \n",
    "    def forward(self, text, text_lengths):\n",
    "        embedded = self.embedding(text)\n",
    "        packed_embedded = nn.utils.rnn.pack_padded_sequence(embedded, text_lengths)\n",
    "        \n",
    "        packed_output, (hidden, cell) = self.rnn(packed_embedded)\n",
    "        #print(hidden.size())\n",
    "        #return(hidden)\n",
    "        hidden = self.dropout(torch.cat((hidden[-2,:,:], hidden[-1,:,:]), dim = 1))\n",
    "        output = self.fc1(hidden)\n",
    "        output = self.Re(output)\n",
    "        output = self.fc2(output)\n",
    "        #output = torch.nn.ReLU(output)\n",
    "        output = self.dropout(output)\n",
    "            \n",
    "        return output\n"
   ]
  },
  {
   "cell_type": "code",
   "execution_count": null,
   "metadata": {
    "id": "AhDWaUxenx4r"
   },
   "outputs": [],
   "source": [
    "model = LSTM_net(INPUT_DIM, \n",
    "            EMBEDDING_DIM, \n",
    "            HIDDEN_DIM, \n",
    "            OUTPUT_DIM, \n",
    "            N_LAYERS, \n",
    "            BIDIRECTIONAL, \n",
    "            DROPOUT)\n",
    "model.to(device)\n",
    "\n",
    "criterion = nn.MSELoss().to(device)\n",
    "optimizer = torch.optim.Adam(model.parameters(), lr=learning_rate)"
   ]
  },
  {
   "cell_type": "code",
   "execution_count": null,
   "metadata": {
    "colab": {
     "base_uri": "https://localhost:8080/"
    },
    "id": "bbHn8pKlsw0p",
    "outputId": "baa67f27-67d5-4d39-dab9-117c7cbfa49f"
   },
   "outputs": [
    {
     "name": "stdout",
     "output_type": "stream",
     "text": [
      "torch.Size([150930, 200])\n"
     ]
    },
    {
     "data": {
      "text/plain": [
       "tensor([[0., 0., 0.,  ..., 0., 0., 0.],\n",
       "        [0., 0., 0.,  ..., 0., 0., 0.],\n",
       "        [0., 0., 0.,  ..., 0., 0., 0.],\n",
       "        ...,\n",
       "        [0., 0., 0.,  ..., 0., 0., 0.],\n",
       "        [0., 0., 0.,  ..., 0., 0., 0.],\n",
       "        [0., 0., 0.,  ..., 0., 0., 0.]], device='cuda:0')"
      ]
     },
     "execution_count": 229,
     "metadata": {
      "tags": []
     },
     "output_type": "execute_result"
    }
   ],
   "source": [
    "pretrained_embeddings = TEXT.vocab.vectors\n",
    "\n",
    "print(pretrained_embeddings.shape)\n",
    "model.embedding.weight.data.copy_(pretrained_embeddings)"
   ]
  },
  {
   "cell_type": "code",
   "execution_count": null,
   "metadata": {
    "id": "543d62QfpOGr"
   },
   "outputs": [],
   "source": [
    "def evaluate(model, iterator):\n",
    "    \n",
    "    epoch_acc = 0\n",
    "    model.eval()\n",
    "    \n",
    "    with torch.no_grad():\n",
    "        for batch in iterator:\n",
    "            text, text_lengths = batch.description\n",
    "\n",
    "            text = text.to(device)\n",
    "            label = batch.rate.to(device)\n",
    "            text_lengths = text_lengths.to('cpu')\n",
    "            \n",
    "            predictions = model(text, text_lengths).squeeze(1)\n",
    "            acc = Mae(predictions, batch.rate)\n",
    "            \n",
    "            epoch_acc += acc.item()\n",
    "        \n",
    "    return epoch_acc / len(iterator)"
   ]
  },
  {
   "cell_type": "code",
   "execution_count": null,
   "metadata": {
    "id": "j0uwJEUToNLg"
   },
   "outputs": [],
   "source": [
    "def train(model, iterator):\n",
    "    \n",
    "    epoch_loss = 0\n",
    "    epoch_acc = 0\n",
    "    \n",
    "    model.train()\n",
    "    \n",
    "    for batch in  tqdm(iterator, position=0, leave=True) :\n",
    "        text, text_lengths = batch.description\n",
    "\n",
    "        text = text.to(device)\n",
    "        label = batch.rate.to(device)\n",
    "        text_lengths = text_lengths.to('cpu')\n",
    "\n",
    "        #print(text.device, text_lengths.device, label.device)\n",
    "        optimizer.zero_grad()\n",
    "        predictions = model(text, text_lengths).squeeze(1)\n",
    "        loss = criterion(predictions, batch.rate)\n",
    "        acc = Mae(predictions, batch.rate)\n",
    "\n",
    "        loss.backward()\n",
    "        optimizer.step()\n",
    "        \n",
    "        epoch_loss += loss.item()\n",
    "        epoch_acc += acc.item()\n",
    "        \n",
    "\n",
    "    return epoch_loss / len(iterator), epoch_acc / len(iterator)"
   ]
  },
  {
   "cell_type": "code",
   "execution_count": null,
   "metadata": {
    "colab": {
     "base_uri": "https://localhost:8080/"
    },
    "id": "Ied4uns9qODd",
    "outputId": "ddace329-46fc-482e-d3f0-577c1d55efa9"
   },
   "outputs": [
    {
     "name": "stderr",
     "output_type": "stream",
     "text": [
      "100%|██████████| 1841/1841 [04:58<00:00,  6.16it/s]\n"
     ]
    },
    {
     "name": "stdout",
     "output_type": "stream",
     "text": [
      "\tTrain Loss: 0.556 | Train MAE: 0.26\n",
      "\t Val. MAE: 0.58 | Epoch 0\n"
     ]
    },
    {
     "name": "stderr",
     "output_type": "stream",
     "text": [
      "100%|██████████| 1841/1841 [04:59<00:00,  6.16it/s]\n"
     ]
    },
    {
     "name": "stdout",
     "output_type": "stream",
     "text": [
      "\tTrain Loss: 0.556 | Train MAE: 0.26\n",
      "\t Val. MAE: 0.58 | Epoch 1\n"
     ]
    },
    {
     "name": "stderr",
     "output_type": "stream",
     "text": [
      "100%|██████████| 1841/1841 [04:58<00:00,  6.17it/s]\n"
     ]
    },
    {
     "name": "stdout",
     "output_type": "stream",
     "text": [
      "\tTrain Loss: 0.554 | Train MAE: 0.26\n",
      "\t Val. MAE: 0.57 | Epoch 2\n"
     ]
    },
    {
     "name": "stderr",
     "output_type": "stream",
     "text": [
      "100%|██████████| 1841/1841 [04:58<00:00,  6.18it/s]\n"
     ]
    },
    {
     "name": "stdout",
     "output_type": "stream",
     "text": [
      "\tTrain Loss: 0.551 | Train MAE: 0.26\n",
      "\t Val. MAE: 0.57 | Epoch 3\n"
     ]
    },
    {
     "name": "stderr",
     "output_type": "stream",
     "text": [
      "100%|██████████| 1841/1841 [04:57<00:00,  6.18it/s]\n"
     ]
    },
    {
     "name": "stdout",
     "output_type": "stream",
     "text": [
      "\tTrain Loss: 0.544 | Train MAE: 0.25\n",
      "\t Val. MAE: 0.58 | Epoch 4\n"
     ]
    },
    {
     "name": "stderr",
     "output_type": "stream",
     "text": [
      "100%|██████████| 1841/1841 [04:57<00:00,  6.18it/s]\n"
     ]
    },
    {
     "name": "stdout",
     "output_type": "stream",
     "text": [
      "\tTrain Loss: 0.552 | Train MAE: 0.25\n",
      "\t Val. MAE: 0.58 | Epoch 5\n"
     ]
    },
    {
     "name": "stderr",
     "output_type": "stream",
     "text": [
      "100%|██████████| 1841/1841 [04:57<00:00,  6.18it/s]\n"
     ]
    },
    {
     "name": "stdout",
     "output_type": "stream",
     "text": [
      "\tTrain Loss: 0.557 | Train MAE: 0.25\n",
      "\t Val. MAE: 0.57 | Epoch 6\n"
     ]
    },
    {
     "name": "stderr",
     "output_type": "stream",
     "text": [
      "100%|██████████| 1841/1841 [04:58<00:00,  6.18it/s]\n"
     ]
    },
    {
     "name": "stdout",
     "output_type": "stream",
     "text": [
      "\tTrain Loss: 0.551 | Train MAE: 0.25\n",
      "\t Val. MAE: 0.57 | Epoch 7\n"
     ]
    },
    {
     "name": "stderr",
     "output_type": "stream",
     "text": [
      "100%|██████████| 1841/1841 [04:57<00:00,  6.18it/s]\n"
     ]
    },
    {
     "name": "stdout",
     "output_type": "stream",
     "text": [
      "\tTrain Loss: 0.545 | Train MAE: 0.25\n",
      "\t Val. MAE: 0.58 | Epoch 8\n"
     ]
    },
    {
     "name": "stderr",
     "output_type": "stream",
     "text": [
      "100%|██████████| 1841/1841 [04:58<00:00,  6.17it/s]\n"
     ]
    },
    {
     "name": "stdout",
     "output_type": "stream",
     "text": [
      "\tTrain Loss: 0.550 | Train MAE: 0.25\n",
      "\t Val. MAE: 0.58 | Epoch 9\n"
     ]
    },
    {
     "name": "stderr",
     "output_type": "stream",
     "text": [
      " 50%|█████     | 927/1841 [02:30<01:48,  8.46it/s]"
     ]
    }
   ],
   "source": [
    "import time\n",
    "t = time.time()\n",
    "loss=[]\n",
    "acc=[]\n",
    "val_acc=[]\n",
    "\n",
    "for epoch in range(0, 2 * num_epochs):\n",
    "    \n",
    "    train_loss, train_acc = train(model, train_iterator)\n",
    "    valid_acc = evaluate(model, valid_iterator)\n",
    "    \n",
    "    print(f'\\tTrain Loss: {train_loss:.3f} | Train MAE: {train_acc:.2f}')\n",
    "    print(f'\\t Val. MAE: {valid_acc:.2f} | Epoch {epoch}')\n",
    "    \n",
    "    loss.append(train_loss)\n",
    "    acc.append(train_acc)\n",
    "    val_acc.append(valid_acc)\n",
    "    torch.save(model.state_dict(), \"/content/drive/MyDrive/DATAS/yamarket/lstm_dump\")\n",
    "\n",
    "print(f'time:{time.time()-t:.3f}')"
   ]
  },
  {
   "cell_type": "code",
   "execution_count": null,
   "metadata": {
    "id": "nxmGl6dPqUaK"
   },
   "outputs": [],
   "source": []
  }
 ],
 "metadata": {
  "accelerator": "GPU",
  "colab": {
   "collapsed_sections": [
    "vPPtkq4gbxde",
    "ZLJuLgqHb3yK"
   ],
   "name": "Timur_yamarket_project_ipynb_.ipynb",
   "provenance": [],
   "toc_visible": true
  },
  "kernelspec": {
   "display_name": "Python 3",
   "language": "python",
   "name": "python3"
  },
  "language_info": {
   "codemirror_mode": {
    "name": "ipython",
    "version": 3
   },
   "file_extension": ".py",
   "mimetype": "text/x-python",
   "name": "python",
   "nbconvert_exporter": "python",
   "pygments_lexer": "ipython3",
   "version": "3.9.1"
  }
 },
 "nbformat": 4,
 "nbformat_minor": 4
}
